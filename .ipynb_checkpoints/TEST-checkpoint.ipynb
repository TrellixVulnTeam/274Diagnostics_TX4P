{
 "cells": [
  {
   "cell_type": "markdown",
   "metadata": {},
   "source": [
    "### Python-SQL Connection"
   ]
  },
  {
   "cell_type": "code",
   "execution_count": 9,
   "metadata": {
    "scrolled": true
   },
   "outputs": [],
   "source": [
    "import psycopg2\n",
    "# \"dbname=test user=postgres\"\n",
    "# dbname – the database name (database is a deprecated alias)\n",
    "# user – user name used to authenticate\n",
    "# password – password used to authenticate\n",
    "# host – database host address (defaults to UNIX socket if not provided)\n",
    "# port – connection port number (defaults to 5432 if not provided)\n",
    "conn = psycopg2.connect(dbname = 'afyaproduction', \n",
    "                        user = 'melton_zheng', \n",
    "                        password = '8FbxU0hT(CgcUM9O',\n",
    "                        host = '34.72.27.131')\n",
    "\n",
    "cursor = conn.cursor()\n"
   ]
  },
  {
   "cell_type": "code",
   "execution_count": 2,
   "metadata": {},
   "outputs": [],
   "source": [
    "cursor.execute('SELECT * FROM public.chat_sessions;')"
   ]
  },
  {
   "cell_type": "code",
   "execution_count": 3,
   "metadata": {},
   "outputs": [
    {
     "data": {
      "text/plain": [
       "()"
      ]
     },
     "execution_count": 3,
     "metadata": {},
     "output_type": "execute_result"
    }
   ],
   "source": [
    "import numpy as np\n",
    "\n",
    "np.shape(cursor)"
   ]
  },
  {
   "cell_type": "code",
   "execution_count": 4,
   "metadata": {},
   "outputs": [],
   "source": [
    "test = cursor.fetchall()"
   ]
  },
  {
   "cell_type": "code",
   "execution_count": 5,
   "metadata": {},
   "outputs": [
    {
     "name": "stderr",
     "output_type": "stream",
     "text": [
      "c:\\users\\melton\\appdata\\local\\programs\\python\\python39\\lib\\site-packages\\numpy\\core\\_asarray.py:83: VisibleDeprecationWarning: Creating an ndarray from ragged nested sequences (which is a list-or-tuple of lists-or-tuples-or ndarrays with different lengths or shapes) is deprecated. If you meant to do this, you must specify 'dtype=object' when creating the ndarray\n",
      "  return array(a, dtype, copy=False, order=order)\n"
     ]
    },
    {
     "data": {
      "text/plain": [
       "(174, 26)"
      ]
     },
     "execution_count": 5,
     "metadata": {},
     "output_type": "execute_result"
    }
   ],
   "source": [
    "np.shape(test)"
   ]
  },
  {
   "cell_type": "code",
   "execution_count": 6,
   "metadata": {},
   "outputs": [
    {
     "data": {
      "text/plain": [
       "('53c213f0-ca29-11eb-8fc4-d1320f706d01',\n",
       " 0,\n",
       " 'a5e3c008-85ba-4d65-aa15-c9a57bf85359',\n",
       " '00000000-0000-0000-0000-000000000048',\n",
       " '123e4567-e89b-12d3-a456-426655440000',\n",
       " datetime.datetime(2021, 6, 10, 20, 20, 41, 263000),\n",
       " datetime.datetime(2021, 6, 21, 17, 38, 17, 534000),\n",
       " '{47ea1ec0-3e55-11eb-aae1-7973177dcc63,325bad90-b7fd-11eb-b94b-bdccd56f49bf,422012b0-a471-11eb-95b1-edf4074826fd}',\n",
       " 'swelling ',\n",
       " '47ea1ec0-3e55-11eb-aae1-7973177dcc63',\n",
       " '422012b0-a471-11eb-95b1-edf4074826fd',\n",
       " 'Bruce Reisman',\n",
       " 'ok',\n",
       " 'TEXT',\n",
       " '{422012b0-a471-11eb-95b1-edf4074826fd,47ea1ec0-3e55-11eb-aae1-7973177dcc63}',\n",
       " ['79370020', '28306576', '69944659'],\n",
       " '422012b0-a471-11eb-95b1-edf4074826fd',\n",
       " datetime.datetime(2021, 6, 16, 23, 48, 7, 678000),\n",
       " '325bad90-b7fd-11eb-b94b-bdccd56f49bf',\n",
       " '28306576',\n",
       " '35c5ebb0-a2f6-11eb-95b1-edf4074826fd',\n",
       " 'R22.0 Localized swelling, mass and lump, head',\n",
       " ['00000'],\n",
       " 0,\n",
       " datetime.datetime(2021, 6, 11, 18, 40, 22, 629000),\n",
       " None)"
      ]
     },
     "execution_count": 6,
     "metadata": {},
     "output_type": "execute_result"
    }
   ],
   "source": [
    "test[173]"
   ]
  },
  {
   "cell_type": "code",
   "execution_count": 10,
   "metadata": {
    "scrolled": false
   },
   "outputs": [],
   "source": [
    "cursor.execute(\"SELECT * FROM public.chat_sessions LIMIT 0;\")"
   ]
  },
  {
   "cell_type": "code",
   "execution_count": 11,
   "metadata": {},
   "outputs": [],
   "source": [
    "colnames = [desc[0] for desc in cursor.description]"
   ]
  },
  {
   "cell_type": "code",
   "execution_count": 12,
   "metadata": {},
   "outputs": [
    {
     "data": {
      "text/plain": [
       "['id',\n",
       " 'status',\n",
       " 'close_codes',\n",
       " 'speciality',\n",
       " 'permissions',\n",
       " 'createdAt',\n",
       " 'updatedAt',\n",
       " 'members',\n",
       " 'chief_complaint',\n",
       " 'owner_id_1',\n",
       " 'owner_id_2',\n",
       " 'last_sender_name',\n",
       " 'last_sent_message',\n",
       " 'last_sent_type',\n",
       " 'read_by',\n",
       " 'agora_ids',\n",
       " 'last_sender_id',\n",
       " 'updatedTime',\n",
       " 'patient_id',\n",
       " 'patient_agora_id',\n",
       " 'org_id',\n",
       " 'ICD',\n",
       " 'CPT',\n",
       " 'is_archive',\n",
       " 'close_code_date',\n",
       " 'language']"
      ]
     },
     "execution_count": 12,
     "metadata": {},
     "output_type": "execute_result"
    }
   ],
   "source": [
    "colnames"
   ]
  },
  {
   "cell_type": "code",
   "execution_count": 8,
   "metadata": {},
   "outputs": [],
   "source": [
    "cursor.close()\n",
    "conn.close()"
   ]
  },
  {
   "cell_type": "markdown",
   "metadata": {},
   "source": [
    "### 837P Formatting"
   ]
  },
  {
   "cell_type": "code",
   "execution_count": 8,
   "metadata": {
    "scrolled": true
   },
   "outputs": [],
   "source": [
    "import pandas as pd\n",
    "\n",
    "df = pd.read_excel('Updated_HPSJ837PFieldDescriptionsMeltonEd.xlsx', engine='openpyxl')"
   ]
  },
  {
   "cell_type": "code",
   "execution_count": 9,
   "metadata": {},
   "outputs": [
    {
     "data": {
      "text/html": [
       "<div>\n",
       "<style scoped>\n",
       "    .dataframe tbody tr th:only-of-type {\n",
       "        vertical-align: middle;\n",
       "    }\n",
       "\n",
       "    .dataframe tbody tr th {\n",
       "        vertical-align: top;\n",
       "    }\n",
       "\n",
       "    .dataframe thead th {\n",
       "        text-align: right;\n",
       "    }\n",
       "</style>\n",
       "<table border=\"1\" class=\"dataframe\">\n",
       "  <thead>\n",
       "    <tr style=\"text-align: right;\">\n",
       "      <th></th>\n",
       "      <th>Segments</th>\n",
       "      <th>Description</th>\n",
       "      <th>Standard / Default Value</th>\n",
       "      <th>HPSJ's Value</th>\n",
       "      <th>Afya's Database Value</th>\n",
       "      <th>Example</th>\n",
       "      <th>Notes</th>\n",
       "    </tr>\n",
       "  </thead>\n",
       "  <tbody>\n",
       "    <tr>\n",
       "      <th>0</th>\n",
       "      <td>ISA</td>\n",
       "      <td>Interchange Control Header</td>\n",
       "      <td>NaN</td>\n",
       "      <td>NaN</td>\n",
       "      <td>NaN</td>\n",
       "      <td>NaN</td>\n",
       "      <td>NaN</td>\n",
       "    </tr>\n",
       "    <tr>\n",
       "      <th>1</th>\n",
       "      <td>ISA00</td>\n",
       "      <td>Segment Name</td>\n",
       "      <td>ISA</td>\n",
       "      <td>NaN</td>\n",
       "      <td>Hard-coded</td>\n",
       "      <td>ISA</td>\n",
       "      <td>NaN</td>\n",
       "    </tr>\n",
       "    <tr>\n",
       "      <th>2</th>\n",
       "      <td>ISA01</td>\n",
       "      <td>Authorization Information Qualifer</td>\n",
       "      <td>00, 03</td>\n",
       "      <td>00 (No Auth Info Present)</td>\n",
       "      <td>Hard-coded</td>\n",
       "      <td>00</td>\n",
       "      <td>NaN</td>\n",
       "    </tr>\n",
       "    <tr>\n",
       "      <th>3</th>\n",
       "      <td>ISA02</td>\n",
       "      <td>Authorization Information</td>\n",
       "      <td>Required</td>\n",
       "      <td>{10 blank spaces}</td>\n",
       "      <td>CLM_TRAD_PARTNER.ISA02</td>\n",
       "      <td>{10 blank spaces}</td>\n",
       "      <td>NaN</td>\n",
       "    </tr>\n",
       "    <tr>\n",
       "      <th>4</th>\n",
       "      <td>ISA03</td>\n",
       "      <td>Security Information Qualifer</td>\n",
       "      <td>00, 01</td>\n",
       "      <td>00 (No Security Info Present)</td>\n",
       "      <td>Hard-coded</td>\n",
       "      <td>00</td>\n",
       "      <td>NaN</td>\n",
       "    </tr>\n",
       "    <tr>\n",
       "      <th>...</th>\n",
       "      <td>...</td>\n",
       "      <td>...</td>\n",
       "      <td>...</td>\n",
       "      <td>...</td>\n",
       "      <td>...</td>\n",
       "      <td>...</td>\n",
       "      <td>...</td>\n",
       "    </tr>\n",
       "    <tr>\n",
       "      <th>248</th>\n",
       "      <td>IEA</td>\n",
       "      <td>NaN</td>\n",
       "      <td>NaN</td>\n",
       "      <td>NaN</td>\n",
       "      <td>NaN</td>\n",
       "      <td>NaN</td>\n",
       "      <td>NaN</td>\n",
       "    </tr>\n",
       "    <tr>\n",
       "      <th>249</th>\n",
       "      <td>IEA00</td>\n",
       "      <td>Segment Name</td>\n",
       "      <td>IEA</td>\n",
       "      <td>NaN</td>\n",
       "      <td>Hard-coded</td>\n",
       "      <td>IEA</td>\n",
       "      <td>NaN</td>\n",
       "    </tr>\n",
       "    <tr>\n",
       "      <th>250</th>\n",
       "      <td>IEA01</td>\n",
       "      <td>Number of Included Functional Groups</td>\n",
       "      <td>Required</td>\n",
       "      <td>Count of # Functional Groups</td>\n",
       "      <td>COUNT (PROGRAMMATICALLY GENERATED)</td>\n",
       "      <td>1</td>\n",
       "      <td>NaN</td>\n",
       "    </tr>\n",
       "    <tr>\n",
       "      <th>251</th>\n",
       "      <td>IEA02</td>\n",
       "      <td>Interchange Control Number</td>\n",
       "      <td>Required</td>\n",
       "      <td>ICN</td>\n",
       "      <td>CLM_TRAD_PARTNER.ICN</td>\n",
       "      <td>{interchange_control_number }</td>\n",
       "      <td>NaN</td>\n",
       "    </tr>\n",
       "    <tr>\n",
       "      <th>252</th>\n",
       "      <td>NaN</td>\n",
       "      <td>NaN</td>\n",
       "      <td>NaN</td>\n",
       "      <td>NaN</td>\n",
       "      <td>NaN</td>\n",
       "      <td>NaN</td>\n",
       "      <td>NaN</td>\n",
       "    </tr>\n",
       "  </tbody>\n",
       "</table>\n",
       "<p>253 rows × 7 columns</p>\n",
       "</div>"
      ],
      "text/plain": [
       "    Segments                           Description Standard / Default Value  \\\n",
       "0        ISA            Interchange Control Header                      NaN   \n",
       "1      ISA00                          Segment Name                      ISA   \n",
       "2      ISA01    Authorization Information Qualifer                   00, 03   \n",
       "3      ISA02             Authorization Information                 Required   \n",
       "4      ISA03         Security Information Qualifer                   00, 01   \n",
       "..       ...                                   ...                      ...   \n",
       "248      IEA                                   NaN                      NaN   \n",
       "249    IEA00                          Segment Name                      IEA   \n",
       "250    IEA01  Number of Included Functional Groups                 Required   \n",
       "251    IEA02            Interchange Control Number                 Required   \n",
       "252      NaN                                   NaN                      NaN   \n",
       "\n",
       "                      HPSJ's Value               Afya's Database Value  \\\n",
       "0                              NaN                                 NaN   \n",
       "1                              NaN                          Hard-coded   \n",
       "2        00 (No Auth Info Present)                          Hard-coded   \n",
       "3                {10 blank spaces}              CLM_TRAD_PARTNER.ISA02   \n",
       "4    00 (No Security Info Present)                          Hard-coded   \n",
       "..                             ...                                 ...   \n",
       "248                            NaN                                 NaN   \n",
       "249                            NaN                          Hard-coded   \n",
       "250   Count of # Functional Groups  COUNT (PROGRAMMATICALLY GENERATED)   \n",
       "251                            ICN                CLM_TRAD_PARTNER.ICN   \n",
       "252                            NaN                                 NaN   \n",
       "\n",
       "                           Example Notes  \n",
       "0                              NaN   NaN  \n",
       "1                              ISA   NaN  \n",
       "2                               00   NaN  \n",
       "3                {10 blank spaces}   NaN  \n",
       "4                               00   NaN  \n",
       "..                             ...   ...  \n",
       "248                            NaN   NaN  \n",
       "249                            IEA   NaN  \n",
       "250                              1   NaN  \n",
       "251  {interchange_control_number }   NaN  \n",
       "252                            NaN   NaN  \n",
       "\n",
       "[253 rows x 7 columns]"
      ]
     },
     "execution_count": 9,
     "metadata": {},
     "output_type": "execute_result"
    }
   ],
   "source": [
    "df"
   ]
  },
  {
   "cell_type": "code",
   "execution_count": 10,
   "metadata": {},
   "outputs": [],
   "source": [
    "def isnan(x):\n",
    "    try:\n",
    "        y = float(x)\n",
    "        return math.isnan(y)\n",
    "    except:\n",
    "        return False"
   ]
  },
  {
   "cell_type": "code",
   "execution_count": 11,
   "metadata": {},
   "outputs": [],
   "source": [
    "import math\n",
    "\n",
    "test = []\n",
    "arr = []\n",
    "for e in df['Example']:\n",
    "    if(isnan(e)):\n",
    "        test.append(arr)\n",
    "        arr = []\n",
    "    else:\n",
    "        if(e == '{BLANK}'):\n",
    "            arr.append('')\n",
    "        else:\n",
    "            arr.append(e)\n"
   ]
  },
  {
   "cell_type": "code",
   "execution_count": 12,
   "metadata": {},
   "outputs": [],
   "source": [
    "everything = test[1:]"
   ]
  },
  {
   "cell_type": "code",
   "execution_count": 13,
   "metadata": {},
   "outputs": [],
   "source": [
    "envelope_start = everything[:2]\n",
    "transaction_arr = everything[2:-2]\n",
    "envelope_end = everything[-2:]"
   ]
  },
  {
   "cell_type": "code",
   "execution_count": 14,
   "metadata": {
    "scrolled": false
   },
   "outputs": [
    {
     "data": {
      "text/plain": [
       "[['ST', 837, '{count}', '005010X222A1'],\n",
       " ['BHT', '0019', '00', '0123', '{iday}', '{itime}', 'RP'],\n",
       " ['NM1', 41, 2, 'AFYA GLOBAL INC', '', '', '', '', 46, '1982269031'],\n",
       " ['PER', 'IC', 'AFYA SUPPORT', 'TE', 9493995380, 'EM', 'admin@afyachat.com'],\n",
       " ['NM1', 40, 2, 'HPSJ', '', '', '', '', 46, '00303'],\n",
       " ['HL', 1, '', 20, 1],\n",
       " ['PRV', 'BI', 'PXC', '261QM1300X'],\n",
       " ['NM1', 85, 2, 'HUBMD', '', '', '', '', 'XX', '1982269031'],\n",
       " ['N3', '104 E Olive Ave', 'Suite 100'],\n",
       " ['N4', 'Redlands', 'CA', '92373-5255'],\n",
       " ['REF', 'EI', '83-2774928'],\n",
       " ['PER', 'IC', 'Stanley Frencher', 'TE', '9094559473'],\n",
       " ['HL', 2, 1, 22, 0],\n",
       " ['SBR', 'S', 18, '', '', '', '', '', '', 'MC'],\n",
       " ['NM1',\n",
       "  'IL',\n",
       "  1,\n",
       "  '{patient_last}',\n",
       "  '{patient_first}',\n",
       "  '',\n",
       "  '',\n",
       "  '',\n",
       "  'MI',\n",
       "  '{hpsj_id}'],\n",
       " ['N3', '{patient_address}', ''],\n",
       " ['N4', '{patient_city}', '{patient_state}', '{patient_zip}'],\n",
       " ['DMG', 'D8', '{patient_dob}', '{patient_gender}'],\n",
       " ['NM1', 'PR', 2, 'HPSJ', '', '', '', '', 'PI', '00303'],\n",
       " ['N3', '7751 S Manthey Rd', ''],\n",
       " ['N4', 'French Camp', 'CA', '95231'],\n",
       " ['CLM', '{consult_id}', '34.50', '', '', '02:B:01', 'Y', 'A', 'Y', 'Y'],\n",
       " ['DTP', 304, 'D8', '{responded_date}'],\n",
       " ['CN1', '05', '0'],\n",
       " ['HI', 'ABK:{icd10_code}'],\n",
       " ['NM1', 82, '1', '{sr_last}', '{sr_first}', '', '', '', 'XX', '{sr_npi}'],\n",
       " ['SBR', 'P', '18', '', '{CCI_BLANK_or_MED}', '', '', '', '', 'MC'],\n",
       " ['AMT', 'A8', '0'],\n",
       " ['LX', 1],\n",
       " ['SV1', '99451:GQ', '34.50', 'UN', '1', '02', '', ''],\n",
       " ['DTP', 472, 'D8', 20200226],\n",
       " ['SE', '{num_of_lines}', '{count}']]"
      ]
     },
     "execution_count": 14,
     "metadata": {},
     "output_type": "execute_result"
    }
   ],
   "source": [
    "transaction_arr"
   ]
  },
  {
   "cell_type": "code",
   "execution_count": 29,
   "metadata": {},
   "outputs": [],
   "source": [
    "transaction = ''\n",
    "newline = '\\n'\n",
    "for t in transaction_arr:\n",
    "    for i,_t in enumerate(t):\n",
    "        if i != (len(t)):\n",
    "            transaction += str(_t)\n",
    "            transaction += '*'\n",
    "    transaction += f'~{newline}'"
   ]
  },
  {
   "cell_type": "code",
   "execution_count": 32,
   "metadata": {
    "scrolled": true
   },
   "outputs": [
    {
     "data": {
      "text/plain": [
       "'ST*837*{count}*005010X222A1*~\\nBHT*0019*00*0123*{iday}*{itime}*RP*~\\nNM1*41*2*AFYA GLOBAL INC*****46*1982269031*~\\nPER*IC*AFYA SUPPORT*TE*9493995380*EM*admin@afyachat.com*~\\nNM1*40*2*HPSJ*****46*00303*~\\nHL*1**20*1*~\\nPRV*BI*PXC*261QM1300X*~\\nNM1*85*2*HUBMD*****XX*1982269031*~\\nN3*104 E Olive Ave*Suite 100*~\\nN4*Redlands*CA*92373-5255*~\\nREF*EI*83-2774928*~\\nPER*IC*Stanley Frencher*TE*9094559473*~\\nHL*2*1*22*0*~\\nSBR*S*18*******MC*~\\nNM1*IL*1*{patient_last}*{patient_first}****MI*{hpsj_id}*~\\nN3*{patient_address}**~\\nN4*{patient_city}*{patient_state}*{patient_zip}*~\\nDMG*D8*{patient_dob}*{patient_gender}*~\\nNM1*PR*2*HPSJ*****PI*00303*~\\nN3*7751 S Manthey Rd**~\\nN4*French Camp*CA*95231*~\\nCLM*{consult_id}*34.50***02:B:01*Y*A*Y*Y*~\\nDTP*304*D8*{responded_date}*~\\nCN1*05*0*~\\nHI*ABK:{icd10_code}*~\\nNM1*82*1*{sr_last}*{sr_first}****XX*{sr_npi}*~\\nSBR*P*18**{CCI_BLANK_or_MED}*****MC*~\\nAMT*A8*0*~\\nLX*1*~\\nSV1*99451:GQ*34.50*UN*1*02***~\\nDTP*472*D8*20200226*~\\nSE*{num_of_lines}*{count}*~\\n'"
      ]
     },
     "execution_count": 32,
     "metadata": {},
     "output_type": "execute_result"
    }
   ],
   "source": [
    "transaction"
   ]
  },
  {
   "cell_type": "code",
   "execution_count": 31,
   "metadata": {},
   "outputs": [
    {
     "name": "stdout",
     "output_type": "stream",
     "text": [
      "ST*837*{count}*005010X222A1*~\n",
      "BHT*0019*00*0123*{iday}*{itime}*RP*~\n",
      "NM1*41*2*AFYA GLOBAL INC*****46*1982269031*~\n",
      "PER*IC*AFYA SUPPORT*TE*9493995380*EM*admin@afyachat.com*~\n",
      "NM1*40*2*HPSJ*****46*00303*~\n",
      "HL*1**20*1*~\n",
      "PRV*BI*PXC*261QM1300X*~\n",
      "NM1*85*2*HUBMD*****XX*1982269031*~\n",
      "N3*104 E Olive Ave*Suite 100*~\n",
      "N4*Redlands*CA*92373-5255*~\n",
      "REF*EI*83-2774928*~\n",
      "PER*IC*Stanley Frencher*TE*9094559473*~\n",
      "HL*2*1*22*0*~\n",
      "SBR*S*18*******MC*~\n",
      "NM1*IL*1*{patient_last}*{patient_first}****MI*{hpsj_id}*~\n",
      "N3*{patient_address}**~\n",
      "N4*{patient_city}*{patient_state}*{patient_zip}*~\n",
      "DMG*D8*{patient_dob}*{patient_gender}*~\n",
      "NM1*PR*2*HPSJ*****PI*00303*~\n",
      "N3*7751 S Manthey Rd**~\n",
      "N4*French Camp*CA*95231*~\n",
      "CLM*{consult_id}*34.50***02:B:01*Y*A*Y*Y*~\n",
      "DTP*304*D8*{responded_date}*~\n",
      "CN1*05*0*~\n",
      "HI*ABK:{icd10_code}*~\n",
      "NM1*82*1*{sr_last}*{sr_first}****XX*{sr_npi}*~\n",
      "SBR*P*18**{CCI_BLANK_or_MED}*****MC*~\n",
      "AMT*A8*0*~\n",
      "LX*1*~\n",
      "SV1*99451:GQ*34.50*UN*1*02***~\n",
      "DTP*472*D8*20200226*~\n",
      "SE*{num_of_lines}*{count}*~\n",
      "\n"
     ]
    }
   ],
   "source": [
    "print(transaction)"
   ]
  },
  {
   "cell_type": "code",
   "execution_count": 15,
   "metadata": {},
   "outputs": [],
   "source": [
    "class Transaction:\n",
    "    def __init__(self, count, iday, itime, patient_obj, consult_id, responded_date,\n",
    "                 icd10_code, sr_last, sr_first, sr_npi, CCI_BLANK_or_MED, MC):\n",
    "        self.dat = [count,iday,itime,patient_obj, consult_id, responded_date,\n",
    "                    icd10_code, sr_last, sr_first, sr_npi, CCI_BLANK_or_MED]\n",
    "        full_data = f'ST*837*{count}*005010X222A1*~\\nBHT*0019*00*0123*{iday}*{itime}*RP*~\\nNM1*41*2*AFYA GLOBAL INC*****46*1982269031*~\\nPER*IC*AFYA SUPPORT*TE*9493995380*EM*admin@afyachat.com*~\\nNM1*40*2*HPSJ*****46*00303*~\\nHL*1**20*1*~\\nPRV*BI*PXC*261QM1300X*~\\nNM1*85*2*HUBMD*****XX*1982269031*~\\nN3*104 E Olive Ave*Suite 100*~\\nN4*Redlands*CA*92373-5255*~\\nREF*EI*83-2774928*~\\nPER*IC*Stanley Frencher*TE*9094559473*~\\nHL*2*1*22*0*~\\nSBR*S*18*******MC*~\\nNM1*IL*1*{patient_last}*{patient_first}****MI*{hpsj_id}*~\\nN3*{patient_address}**~\\nN4*{patient_city}*{patient_state}*{patient_zip}*~\\nDMG*D8*{patient_dob}*{patient_gender}*~\\nNM1*PR*2*HPSJ*****PI*00303*~\\nN3*7751 S Manthey Rd**~\\nN4*French Camp*CA*95231*~\\nCLM*{consult_id}*34.50***02:B:01*Y*A*Y*Y*~\\nDTP*304*D8*{responded_date}*~\\nCN1*05*0*~\\nHI*ABK:{icd10_code}*~\\nNM1*82*1*{sr_last}*{sr_first}****XX*{sr_npi}*~\\nSBR*P*18**{CCI_BLANK_or_MED}*****MC*~\\nAMT*A8*0*~\\nLX*1*~\\nSV1*99451:GQ*34.50*UN*1*02***~\\nDTP*472*D8*20200226*~\\nSE*{num_of_lines}*{count}*~\\n'"
   ]
  },
  {
   "cell_type": "code",
   "execution_count": 16,
   "metadata": {},
   "outputs": [],
   "source": [
    "class Patient:\n",
    "    def __init__(self, patient_last, patient_first, hpsj_id, \n",
    "                 patient_address, patient_city, patient_state, patient_zip, \n",
    "                 patient_dob, patient_gender):\n",
    "        self.last = patient_last\n",
    "        self.first = patient_first\n",
    "        self.id = hpsj_id\n",
    "        self.address = patient_address\n",
    "        self.city = patient_city\n",
    "        self.state = patient_state\n",
    "        self.zip = patient_zip\n",
    "        self.dob = patient_dob\n",
    "        self.gender = patient_gender\n",
    "        "
   ]
  },
  {
   "cell_type": "code",
   "execution_count": null,
   "metadata": {},
   "outputs": [],
   "source": []
  }
 ],
 "metadata": {
  "kernelspec": {
   "display_name": "Python 3",
   "language": "python",
   "name": "python3"
  },
  "language_info": {
   "codemirror_mode": {
    "name": "ipython",
    "version": 3
   },
   "file_extension": ".py",
   "mimetype": "text/x-python",
   "name": "python",
   "nbconvert_exporter": "python",
   "pygments_lexer": "ipython3",
   "version": "3.9.0"
  }
 },
 "nbformat": 4,
 "nbformat_minor": 4
}
