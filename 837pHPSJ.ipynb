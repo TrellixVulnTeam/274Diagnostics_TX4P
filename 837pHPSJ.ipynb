{
 "cells": [
  {
   "cell_type": "markdown",
   "metadata": {},
   "source": [
    "### Python-SQL Connection"
   ]
  },
  {
   "cell_type": "code",
   "execution_count": 1,
   "metadata": {
    "scrolled": true
   },
   "outputs": [],
   "source": [
    "\n",
    "import psycopg2\n",
    "\n",
    "# \"dbname=test user=postgres\"\n",
    "# dbname – the database name (database is a deprecated alias)\n",
    "# user – user name used to authenticate\n",
    "# password – password used to authenticate\n",
    "# host – database host address (defaults to UNIX socket if not provided)\n",
    "# port – connection port number (defaults to 5432 if not provided)\n",
    "conn = psycopg2.connect(dbname = 'afyaproduction', \n",
    "                        user = '[enter your own user here]', \n",
    "                        password = '[enter your own password here]',\n",
    "                        host = '34.72.27.131')\n",
    "\n",
    "cursor = conn.cursor()\n"
   ]
  },
  {
   "cell_type": "code",
   "execution_count": 4,
   "metadata": {},
   "outputs": [],
   "source": [
    "# \n",
    "# @dev I used global variable cursor\n",
    "# \n",
    "def sql_to_df(name_of_table):\n",
    "    import pandas as pd\n",
    "    cursor.execute(f'SELECT * FROM public.{name_of_table};')\n",
    "    d = cursor.fetchall()\n",
    "    cursor.execute(f'SELECT * FROM public.{name_of_table} LIMIT 0;')\n",
    "    c = [desc[0] for desc in cursor.description]\n",
    "    _df = pd.DataFrame(data=d, columns=c)\n",
    "    return _df"
   ]
  },
  {
   "cell_type": "code",
   "execution_count": 5,
   "metadata": {},
   "outputs": [],
   "source": [
    "chat_sessions = sql_to_df('chat_sessions')"
   ]
  },
  {
   "cell_type": "code",
   "execution_count": 6,
   "metadata": {},
   "outputs": [],
   "source": [
    "users = sql_to_df('users')"
   ]
  },
  {
   "cell_type": "code",
   "execution_count": null,
   "metadata": {},
   "outputs": [],
   "source": []
  },
  {
   "cell_type": "code",
   "execution_count": null,
   "metadata": {},
   "outputs": [],
   "source": []
  },
  {
   "cell_type": "code",
   "execution_count": null,
   "metadata": {
    "scrolled": false
   },
   "outputs": [],
   "source": []
  },
  {
   "cell_type": "code",
   "execution_count": null,
   "metadata": {},
   "outputs": [],
   "source": []
  },
  {
   "cell_type": "code",
   "execution_count": 12,
   "metadata": {},
   "outputs": [],
   "source": [
    "# Test on last session\n",
    "test_chat_session = chat_sessions.loc[173]\n",
    "# Pull information on last sessions"
   ]
  },
  {
   "cell_type": "code",
   "execution_count": null,
   "metadata": {},
   "outputs": [],
   "source": []
  },
  {
   "cell_type": "code",
   "execution_count": null,
   "metadata": {},
   "outputs": [],
   "source": []
  },
  {
   "cell_type": "code",
   "execution_count": null,
   "metadata": {},
   "outputs": [],
   "source": []
  },
  {
   "cell_type": "code",
   "execution_count": null,
   "metadata": {},
   "outputs": [],
   "source": []
  },
  {
   "cell_type": "code",
   "execution_count": null,
   "metadata": {},
   "outputs": [],
   "source": []
  },
  {
   "cell_type": "code",
   "execution_count": 43,
   "metadata": {},
   "outputs": [],
   "source": [
    "# Make a Patient Object\n",
    "test_patient = make_patient('325bad90-b7fd-11eb-b94b-bdccd56f49bf')"
   ]
  },
  {
   "cell_type": "code",
   "execution_count": 47,
   "metadata": {},
   "outputs": [
    {
     "data": {
      "text/plain": [
       "'12-12-1994'"
      ]
     },
     "execution_count": 47,
     "metadata": {},
     "output_type": "execute_result"
    }
   ],
   "source": [
    "test_patient.dob # 0-Female, 1-Male"
   ]
  },
  {
   "cell_type": "code",
   "execution_count": 51,
   "metadata": {},
   "outputs": [
    {
     "data": {
      "text/plain": [
       "Index(['id', 'status', 'close_codes', 'speciality', 'permissions', 'createdAt',\n",
       "       'updatedAt', 'members', 'chief_complaint', 'owner_id_1', 'owner_id_2',\n",
       "       'last_sender_name', 'last_sent_message', 'last_sent_type', 'read_by',\n",
       "       'agora_ids', 'last_sender_id', 'updatedTime', 'patient_id',\n",
       "       'patient_agora_id', 'org_id', 'ICD', 'CPT', 'is_archive',\n",
       "       'close_code_date', 'language'],\n",
       "      dtype='object')"
      ]
     },
     "execution_count": 51,
     "metadata": {},
     "output_type": "execute_result"
    }
   ],
   "source": [
    "test_chat_session.index"
   ]
  },
  {
   "cell_type": "code",
   "execution_count": 41,
   "metadata": {},
   "outputs": [
    {
     "data": {
      "text/plain": [
       "<__main__.Patient at 0x19f7c0b9580>"
      ]
     },
     "execution_count": 41,
     "metadata": {},
     "output_type": "execute_result"
    }
   ],
   "source": [
    "#\n",
    "# @dev \n",
    "# \n",
    "# input: Pandas Series for that 'row'\n",
    "# output: Transaction Object\n",
    "#\n",
    "# need to define count, iday, itime, patient_obj, consult_id, responded_date,\n",
    "#                 icd10_code, sr_last, sr_first, sr_npi, CCI_BLANK_or_MED\n",
    "# \n",
    "# \n",
    "def make_transaction(chat_session):\n",
    "    from datetime import date\n",
    "    from datetime import datetime\n",
    "\n",
    "    today = date.today()\n",
    "    now = datetime.now()\n",
    "    iday = today.strftime(\"%y%m%d\")\n",
    "    itime = now.strftime(\"%H%M\")\n",
    "    \n",
    "    the_patient = make_patient(chat_session['patient_id'])\n",
    "#\n",
    "#\n",
    "#\n",
    "#\n",
    "#"
   ]
  },
  {
   "cell_type": "code",
   "execution_count": 42,
   "metadata": {},
   "outputs": [],
   "source": [
    "#\n",
    "# @dev I used global variable (pandas dataframe) *users*\n",
    "#\n",
    "# input: patient_id from SQL database\n",
    "# output: Patient Object defined\n",
    "#                 \n",
    "# Object Variables: self.last, self.first, self.id, self.address, self.city, self.state, self.zip, self.dob, self.gender\n",
    "# \n",
    "# \n",
    "def make_patient(patient_id):\n",
    "    ids = users['user_id']\n",
    "    i = ids.tolist().index(patient_id)\n",
    "    if(i != -1):\n",
    "        u = users.loc[i]\n",
    "    else:\n",
    "        print('Could not find patient in user list')\n",
    "    return Patient(u['last_name'], u['first_name'], None, u['address'], u['city'], u['state'], u['zipcode'], u['dob'], u['gender'])\n",
    "#\n",
    "# Very IMPORTANT\n",
    "# That HPSJ_ID that is None right no gets defined later\n",
    "#"
   ]
  },
  {
   "cell_type": "code",
   "execution_count": 8,
   "metadata": {},
   "outputs": [],
   "source": [
    "cursor.close()\n",
    "conn.close()"
   ]
  },
  {
   "cell_type": "markdown",
   "metadata": {},
   "source": [
    "### 837P Formatting"
   ]
  },
  {
   "cell_type": "code",
   "execution_count": 20,
   "metadata": {
    "scrolled": true
   },
   "outputs": [],
   "source": [
    "import pandas as pd\n",
    "\n",
    "df = pd.read_excel('Updated_HPSJ837PFieldDescriptionsMeltonEd.xlsx', engine='openpyxl')"
   ]
  },
  {
   "cell_type": "code",
   "execution_count": 21,
   "metadata": {},
   "outputs": [
    {
     "data": {
      "text/html": [
       "<div>\n",
       "<style scoped>\n",
       "    .dataframe tbody tr th:only-of-type {\n",
       "        vertical-align: middle;\n",
       "    }\n",
       "\n",
       "    .dataframe tbody tr th {\n",
       "        vertical-align: top;\n",
       "    }\n",
       "\n",
       "    .dataframe thead th {\n",
       "        text-align: right;\n",
       "    }\n",
       "</style>\n",
       "<table border=\"1\" class=\"dataframe\">\n",
       "  <thead>\n",
       "    <tr style=\"text-align: right;\">\n",
       "      <th></th>\n",
       "      <th>Segments</th>\n",
       "      <th>Description</th>\n",
       "      <th>Standard / Default Value</th>\n",
       "      <th>HPSJ's Value</th>\n",
       "      <th>Afya's Database Value</th>\n",
       "      <th>Example</th>\n",
       "      <th>Notes</th>\n",
       "    </tr>\n",
       "  </thead>\n",
       "  <tbody>\n",
       "    <tr>\n",
       "      <th>0</th>\n",
       "      <td>ISA</td>\n",
       "      <td>Interchange Control Header</td>\n",
       "      <td>NaN</td>\n",
       "      <td>NaN</td>\n",
       "      <td>NaN</td>\n",
       "      <td>NaN</td>\n",
       "      <td>NaN</td>\n",
       "    </tr>\n",
       "    <tr>\n",
       "      <th>1</th>\n",
       "      <td>ISA00</td>\n",
       "      <td>Segment Name</td>\n",
       "      <td>ISA</td>\n",
       "      <td>NaN</td>\n",
       "      <td>Hard-coded</td>\n",
       "      <td>ISA</td>\n",
       "      <td>NaN</td>\n",
       "    </tr>\n",
       "    <tr>\n",
       "      <th>2</th>\n",
       "      <td>ISA01</td>\n",
       "      <td>Authorization Information Qualifer</td>\n",
       "      <td>00, 03</td>\n",
       "      <td>00 (No Auth Info Present)</td>\n",
       "      <td>Hard-coded</td>\n",
       "      <td>00</td>\n",
       "      <td>NaN</td>\n",
       "    </tr>\n",
       "    <tr>\n",
       "      <th>3</th>\n",
       "      <td>ISA02</td>\n",
       "      <td>Authorization Information</td>\n",
       "      <td>Required</td>\n",
       "      <td>{10 blank spaces}</td>\n",
       "      <td>CLM_TRAD_PARTNER.ISA02</td>\n",
       "      <td>{10 blank spaces}</td>\n",
       "      <td>NaN</td>\n",
       "    </tr>\n",
       "    <tr>\n",
       "      <th>4</th>\n",
       "      <td>ISA03</td>\n",
       "      <td>Security Information Qualifer</td>\n",
       "      <td>00, 01</td>\n",
       "      <td>00 (No Security Info Present)</td>\n",
       "      <td>Hard-coded</td>\n",
       "      <td>00</td>\n",
       "      <td>NaN</td>\n",
       "    </tr>\n",
       "    <tr>\n",
       "      <th>...</th>\n",
       "      <td>...</td>\n",
       "      <td>...</td>\n",
       "      <td>...</td>\n",
       "      <td>...</td>\n",
       "      <td>...</td>\n",
       "      <td>...</td>\n",
       "      <td>...</td>\n",
       "    </tr>\n",
       "    <tr>\n",
       "      <th>248</th>\n",
       "      <td>IEA</td>\n",
       "      <td>NaN</td>\n",
       "      <td>NaN</td>\n",
       "      <td>NaN</td>\n",
       "      <td>NaN</td>\n",
       "      <td>NaN</td>\n",
       "      <td>NaN</td>\n",
       "    </tr>\n",
       "    <tr>\n",
       "      <th>249</th>\n",
       "      <td>IEA00</td>\n",
       "      <td>Segment Name</td>\n",
       "      <td>IEA</td>\n",
       "      <td>NaN</td>\n",
       "      <td>Hard-coded</td>\n",
       "      <td>IEA</td>\n",
       "      <td>NaN</td>\n",
       "    </tr>\n",
       "    <tr>\n",
       "      <th>250</th>\n",
       "      <td>IEA01</td>\n",
       "      <td>Number of Included Functional Groups</td>\n",
       "      <td>Required</td>\n",
       "      <td>Count of # Functional Groups</td>\n",
       "      <td>COUNT (PROGRAMMATICALLY GENERATED)</td>\n",
       "      <td>1</td>\n",
       "      <td>NaN</td>\n",
       "    </tr>\n",
       "    <tr>\n",
       "      <th>251</th>\n",
       "      <td>IEA02</td>\n",
       "      <td>Interchange Control Number</td>\n",
       "      <td>Required</td>\n",
       "      <td>ICN</td>\n",
       "      <td>CLM_TRAD_PARTNER.ICN</td>\n",
       "      <td>{interchange_control_number }</td>\n",
       "      <td>NaN</td>\n",
       "    </tr>\n",
       "    <tr>\n",
       "      <th>252</th>\n",
       "      <td>NaN</td>\n",
       "      <td>NaN</td>\n",
       "      <td>NaN</td>\n",
       "      <td>NaN</td>\n",
       "      <td>NaN</td>\n",
       "      <td>NaN</td>\n",
       "      <td>NaN</td>\n",
       "    </tr>\n",
       "  </tbody>\n",
       "</table>\n",
       "<p>253 rows × 7 columns</p>\n",
       "</div>"
      ],
      "text/plain": [
       "    Segments                           Description Standard / Default Value  \\\n",
       "0        ISA            Interchange Control Header                      NaN   \n",
       "1      ISA00                          Segment Name                      ISA   \n",
       "2      ISA01    Authorization Information Qualifer                   00, 03   \n",
       "3      ISA02             Authorization Information                 Required   \n",
       "4      ISA03         Security Information Qualifer                   00, 01   \n",
       "..       ...                                   ...                      ...   \n",
       "248      IEA                                   NaN                      NaN   \n",
       "249    IEA00                          Segment Name                      IEA   \n",
       "250    IEA01  Number of Included Functional Groups                 Required   \n",
       "251    IEA02            Interchange Control Number                 Required   \n",
       "252      NaN                                   NaN                      NaN   \n",
       "\n",
       "                      HPSJ's Value               Afya's Database Value  \\\n",
       "0                              NaN                                 NaN   \n",
       "1                              NaN                          Hard-coded   \n",
       "2        00 (No Auth Info Present)                          Hard-coded   \n",
       "3                {10 blank spaces}              CLM_TRAD_PARTNER.ISA02   \n",
       "4    00 (No Security Info Present)                          Hard-coded   \n",
       "..                             ...                                 ...   \n",
       "248                            NaN                                 NaN   \n",
       "249                            NaN                          Hard-coded   \n",
       "250   Count of # Functional Groups  COUNT (PROGRAMMATICALLY GENERATED)   \n",
       "251                            ICN                CLM_TRAD_PARTNER.ICN   \n",
       "252                            NaN                                 NaN   \n",
       "\n",
       "                           Example Notes  \n",
       "0                              NaN   NaN  \n",
       "1                              ISA   NaN  \n",
       "2                               00   NaN  \n",
       "3                {10 blank spaces}   NaN  \n",
       "4                               00   NaN  \n",
       "..                             ...   ...  \n",
       "248                            NaN   NaN  \n",
       "249                            IEA   NaN  \n",
       "250                              1   NaN  \n",
       "251  {interchange_control_number }   NaN  \n",
       "252                            NaN   NaN  \n",
       "\n",
       "[253 rows x 7 columns]"
      ]
     },
     "execution_count": 21,
     "metadata": {},
     "output_type": "execute_result"
    }
   ],
   "source": [
    "df"
   ]
  },
  {
   "cell_type": "code",
   "execution_count": 22,
   "metadata": {},
   "outputs": [],
   "source": [
    "def isnan(x):\n",
    "    try:\n",
    "        y = float(x)\n",
    "        return math.isnan(y)\n",
    "    except:\n",
    "        return False"
   ]
  },
  {
   "cell_type": "code",
   "execution_count": 23,
   "metadata": {},
   "outputs": [],
   "source": [
    "import math\n",
    "\n",
    "test = []\n",
    "arr = []\n",
    "for e in df['Example']:\n",
    "    if(isnan(e)):\n",
    "        test.append(arr)\n",
    "        arr = []\n",
    "    else:\n",
    "        if(e == '{BLANK}'):\n",
    "            arr.append('')\n",
    "        else:\n",
    "            arr.append(e)\n"
   ]
  },
  {
   "cell_type": "code",
   "execution_count": 24,
   "metadata": {},
   "outputs": [],
   "source": [
    "everything = test[1:]"
   ]
  },
  {
   "cell_type": "code",
   "execution_count": 25,
   "metadata": {},
   "outputs": [],
   "source": [
    "envelope_start = everything[:2]\n",
    "transaction_arr = everything[2:-2]\n",
    "envelope_end = everything[-2:]"
   ]
  },
  {
   "cell_type": "code",
   "execution_count": 26,
   "metadata": {
    "scrolled": false
   },
   "outputs": [
    {
     "data": {
      "text/plain": [
       "32"
      ]
     },
     "execution_count": 26,
     "metadata": {},
     "output_type": "execute_result"
    }
   ],
   "source": [
    "len(transaction_arr)"
   ]
  },
  {
   "cell_type": "code",
   "execution_count": 27,
   "metadata": {},
   "outputs": [],
   "source": [
    "transaction = ''\n",
    "newline = '\\n'\n",
    "for t in transaction_arr:\n",
    "    for i,_t in enumerate(t):\n",
    "        if i != (len(t)):\n",
    "            transaction += str(_t)\n",
    "            transaction += '*'\n",
    "    transaction += f'~{newline}'"
   ]
  },
  {
   "cell_type": "code",
   "execution_count": 28,
   "metadata": {
    "scrolled": true
   },
   "outputs": [
    {
     "data": {
      "text/plain": [
       "'ST*837*{count}*005010X222A1*~\\nBHT*0019*00*0123*{iday}*{itime}*RP*~\\nNM1*41*2*AFYA GLOBAL INC*****46*1982269031*~\\nPER*IC*AFYA SUPPORT*TE*9493995380*EM*admin@afyachat.com*~\\nNM1*40*2*HPSJ*****46*00303*~\\nHL*1**20*1*~\\nPRV*BI*PXC*261QM1300X*~\\nNM1*85*2*HUBMD*****XX*1982269031*~\\nN3*104 E Olive Ave*Suite 100*~\\nN4*Redlands*CA*92373-5255*~\\nREF*EI*83-2774928*~\\nPER*IC*Stanley Frencher*TE*9094559473*~\\nHL*2*1*22*0*~\\nSBR*S*18*******MC*~\\nNM1*IL*1*{patient_last}*{patient_first}****MI*{hpsj_id}*~\\nN3*{patient_address}**~\\nN4*{patient_city}*{patient_state}*{patient_zip}*~\\nDMG*D8*{patient_dob}*{patient_gender}*~\\nNM1*PR*2*HPSJ*****PI*00303*~\\nN3*7751 S Manthey Rd**~\\nN4*French Camp*CA*95231*~\\nCLM*{consult_id}*34.50***02:B:01*Y*A*Y*Y*~\\nDTP*304*D8*{responded_date}*~\\nCN1*05*0*~\\nHI*ABK:{icd10_code}*~\\nNM1*82*1*{sr_last}*{sr_first}****XX*{sr_npi}*~\\nSBR*P*18**{CCI_BLANK_or_MED}*****MC*~\\nAMT*A8*0*~\\nLX*1*~\\nSV1*99451:GQ*34.50*UN*1*02***~\\nDTP*472*D8*20200226*~\\nSE*{num_of_lines}*{count}*~\\n'"
      ]
     },
     "execution_count": 28,
     "metadata": {},
     "output_type": "execute_result"
    }
   ],
   "source": [
    "transaction"
   ]
  },
  {
   "cell_type": "code",
   "execution_count": 29,
   "metadata": {},
   "outputs": [
    {
     "name": "stdout",
     "output_type": "stream",
     "text": [
      "ST*837*{count}*005010X222A1*~\n",
      "BHT*0019*00*0123*{iday}*{itime}*RP*~\n",
      "NM1*41*2*AFYA GLOBAL INC*****46*1982269031*~\n",
      "PER*IC*AFYA SUPPORT*TE*9493995380*EM*admin@afyachat.com*~\n",
      "NM1*40*2*HPSJ*****46*00303*~\n",
      "HL*1**20*1*~\n",
      "PRV*BI*PXC*261QM1300X*~\n",
      "NM1*85*2*HUBMD*****XX*1982269031*~\n",
      "N3*104 E Olive Ave*Suite 100*~\n",
      "N4*Redlands*CA*92373-5255*~\n",
      "REF*EI*83-2774928*~\n",
      "PER*IC*Stanley Frencher*TE*9094559473*~\n",
      "HL*2*1*22*0*~\n",
      "SBR*S*18*******MC*~\n",
      "NM1*IL*1*{patient_last}*{patient_first}****MI*{hpsj_id}*~\n",
      "N3*{patient_address}**~\n",
      "N4*{patient_city}*{patient_state}*{patient_zip}*~\n",
      "DMG*D8*{patient_dob}*{patient_gender}*~\n",
      "NM1*PR*2*HPSJ*****PI*00303*~\n",
      "N3*7751 S Manthey Rd**~\n",
      "N4*French Camp*CA*95231*~\n",
      "CLM*{consult_id}*34.50***02:B:01*Y*A*Y*Y*~\n",
      "DTP*304*D8*{responded_date}*~\n",
      "CN1*05*0*~\n",
      "HI*ABK:{icd10_code}*~\n",
      "NM1*82*1*{sr_last}*{sr_first}****XX*{sr_npi}*~\n",
      "SBR*P*18**{CCI_BLANK_or_MED}*****MC*~\n",
      "AMT*A8*0*~\n",
      "LX*1*~\n",
      "SV1*99451:GQ*34.50*UN*1*02***~\n",
      "DTP*472*D8*20200226*~\n",
      "SE*{num_of_lines}*{count}*~\n",
      "\n"
     ]
    }
   ],
   "source": [
    "print(transaction)"
   ]
  },
  {
   "cell_type": "code",
   "execution_count": 30,
   "metadata": {},
   "outputs": [],
   "source": [
    "class Transaction:\n",
    "    \n",
    "    # *** num of lines is currently 32 ***\n",
    "    \n",
    "    num_of_lines = 32\n",
    "    \n",
    "    def __init__(self, count, iday, itime, patient_obj, consult_id, responded_date,\n",
    "                 icd10_code, sr_last, sr_first, sr_npi, CCI_BLANK_or_MED):\n",
    "        self.data = f'ST*837*{count}*005010X222A1*~\\nBHT*0019*00*0123*{iday}*{itime}*RP*~\\nNM1*41*2*AFYA GLOBAL INC*****46*1982269031*~\\nPER*IC*AFYA SUPPORT*TE*9493995380*EM*admin@afyachat.com*~\\nNM1*40*2*HPSJ*****46*00303*~\\nHL*1**20*1*~\\nPRV*BI*PXC*261QM1300X*~\\nNM1*85*2*HUBMD*****XX*1982269031*~\\nN3*104 E Olive Ave*Suite 100*~\\nN4*Redlands*CA*92373-5255*~\\nREF*EI*83-2774928*~\\nPER*IC*Stanley Frencher*TE*9094559473*~\\nHL*2*1*22*0*~\\nSBR*S*18*******MC*~\\nNM1*IL*1*{patient_obj.last}*{patient_obj.first}****MI*{patient_obj.id}*~\\nN3*{patient_obj.address}**~\\nN4*{patient_obj.city}*{patient_obj.state}*{patient_obj.zip}*~\\nDMG*D8*{patient_obj.dob}*{patient_obj.gender}*~\\nNM1*PR*2*HPSJ*****PI*00303*~\\nN3*7751 S Manthey Rd**~\\nN4*French Camp*CA*95231*~\\nCLM*{consult_id}*34.50***02:B:01*Y*A*Y*Y*~\\nDTP*304*D8*{responded_date}*~\\nCN1*05*0*~\\nHI*ABK:{icd10_code}*~\\nNM1*82*1*{sr_last}*{sr_first}****XX*{sr_npi}*~\\nSBR*P*18**{CCI_BLANK_or_MED}*****MC*~\\nAMT*A8*0*~\\nLX*1*~\\nSV1*99451:GQ*34.50*UN*1*02***~\\nDTP*472*D8*20200226*~\\nSE*{num_of_lines}*{count}*~\\n'"
   ]
  },
  {
   "cell_type": "code",
   "execution_count": 31,
   "metadata": {},
   "outputs": [],
   "source": [
    "class Patient:\n",
    "    def __init__(self, patient_last, patient_first, hpsj_id, \n",
    "                 patient_address, patient_city, patient_state, patient_zip, \n",
    "                 patient_dob, patient_gender):\n",
    "        self.last = patient_last\n",
    "        self.first = patient_first\n",
    "        self.id = hpsj_id\n",
    "        self.address = patient_address\n",
    "        self.city = patient_city\n",
    "        self.state = patient_state\n",
    "        self.zip = patient_zip\n",
    "        self.dob = patient_dob\n",
    "        self.gender = patient_gender"
   ]
  },
  {
   "cell_type": "code",
   "execution_count": null,
   "metadata": {},
   "outputs": [],
   "source": []
  }
 ],
 "metadata": {
  "kernelspec": {
   "display_name": "Python 3",
   "language": "python",
   "name": "python3"
  },
  "language_info": {
   "codemirror_mode": {
    "name": "ipython",
    "version": 3
   },
   "file_extension": ".py",
   "mimetype": "text/x-python",
   "name": "python",
   "nbconvert_exporter": "python",
   "pygments_lexer": "ipython3",
   "version": "3.9.0"
  }
 },
 "nbformat": 4,
 "nbformat_minor": 4
}
