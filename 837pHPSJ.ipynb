{
 "cells": [
  {
   "cell_type": "markdown",
   "metadata": {},
   "source": [
    "### Python-SQL Connection"
   ]
  },
  {
   "cell_type": "code",
   "execution_count": 81,
   "metadata": {},
   "outputs": [],
   "source": [
    "import psycopg2\n",
    "import numpy as np\n",
    "import pandas as pd\n",
    "import os"
   ]
  },
  {
   "cell_type": "code",
   "execution_count": 48,
   "metadata": {},
   "outputs": [],
   "source": [
    "class Connection:\n",
    "    def __init__(self,name_db):\n",
    "        \n",
    "        self.conn = psycopg2.connect(dbname = f'{name_db}', \n",
    "                            user = 'melton_zheng', \n",
    "                            password = '8FbxU0hT(CgcUM9O',\n",
    "                            host = '34.72.27.131')\n",
    "\n",
    "        self.cursor = self.conn.cursor()\n",
    "        self.users = self.sql_to_df('users')\n",
    "        self.roles = self.sql_to_df('roles')\n",
    "        self.role_map = self.sql_to_df('provider_org_role_maps')\n",
    "        self.chat_data = self.sql_to_df('chat_datas')\n",
    "\n",
    "    def sql_to_df(self,name_of_table):\n",
    "        self.cursor.execute(f'SELECT * FROM public.{name_of_table};')\n",
    "        d = self.cursor.fetchall()\n",
    "        self.cursor.execute(f'SELECT * FROM public.{name_of_table} LIMIT 0;')\n",
    "        c = [desc[0] for desc in self.cursor.description]\n",
    "        _df = pd.DataFrame(data=d, columns=c)\n",
    "        return _df\n",
    "    \n",
    "    def find_user(self,_id):\n",
    "        ids = self.users['user_id']\n",
    "        i = ids.tolist().index(_id)\n",
    "        if(i != -1):\n",
    "            return self.users.loc[i]\n",
    "        else:\n",
    "            print('Could not find patient in user list')\n",
    "            return\n",
    "        \n",
    "    def find_role(self,_id):\n",
    "        q = self.role_map['provider_id'].to_numpy()\n",
    "        w = np.where(q==_id)\n",
    "        #print(w)\n",
    "        e = self.role_map['roles'].to_numpy()[w]\n",
    "        r = self.roles['role_id'].to_numpy()\n",
    "        try:\n",
    "            t = np.where(r==e[0][1:-1])\n",
    "            # print(t)\n",
    "            y = self.roles['role_name'].to_numpy()\n",
    "            return(y[t])\n",
    "        except:\n",
    "            # print('Could not find the physician in role map')\n",
    "            return None\n",
    "        \n",
    "    \n",
    "    def make_patient(self,patient_id):\n",
    "    \n",
    "        u = self.find_user(patient_id)\n",
    "\n",
    "        return Patient(u['last_name'], u['first_name'], None, u['address'], u['city'], u['state'], u['zipcode'], u['dob'], u['gender'])\n",
    "    #\n",
    "    # Very IMPORTANT\n",
    "    # That HPSJ_ID that is None right now gets defined later\n",
    "    #\n",
    "        \n",
    "    def get_responded_date_and_sr(self,chat_id): \n",
    "        important_indices = np.where(self.chat_data['session_id'].to_numpy() == chat_id)\n",
    "        chat_ppl_ids = []\n",
    "        for i in important_indices:\n",
    "            chat_ppl_ids.append(self.chat_data['from_id'].to_numpy()[i])\n",
    "        chat_role_in_order = []\n",
    "        # print(chat_ppl_ids)\n",
    "        for i in chat_ppl_ids[0]:\n",
    "            chat_role_in_order.append(self.find_role(i))\n",
    "        try:\n",
    "            a = chat_role_in_order.index('Responder Provider')\n",
    "        except:\n",
    "            # print(chat_role_in_order)\n",
    "            return None\n",
    "        d = {}\n",
    "        d['First'] = self.find_user(chat_ppl_ids[0][a])['first_name']\n",
    "        d['Last'] = self.find_user(chat_ppl_ids[0][a])['last_name']\n",
    "        d['NPI'] = self.find_user(chat_ppl_ids[0][a])['npi']\n",
    "        return [self.chat_data['time'].to_numpy()[a],d]\n",
    "        \n",
    "    def get_chats(self):\n",
    "        return self.sql_to_df('chat_sessions')\n",
    "    \n",
    "    def __exit__(self, *args):\n",
    "       #Close connection to SQL server is server closed\n",
    "        self.cursor.close()\n",
    "        self.conn.close()\n",
    "        print(\"Connection closed to SQL server\")"
   ]
  },
  {
   "cell_type": "code",
   "execution_count": null,
   "metadata": {},
   "outputs": [],
   "source": []
  },
  {
   "cell_type": "code",
   "execution_count": null,
   "metadata": {},
   "outputs": [],
   "source": []
  },
  {
   "cell_type": "code",
   "execution_count": null,
   "metadata": {},
   "outputs": [],
   "source": []
  },
  {
   "cell_type": "code",
   "execution_count": 2,
   "metadata": {},
   "outputs": [],
   "source": [
    "class Patient:\n",
    "    def __init__(self, patient_last, patient_first, hpsj_id, \n",
    "                 patient_address, patient_city, patient_state, patient_zip, \n",
    "                 patient_dob, patient_gender):\n",
    "        self.last = patient_last\n",
    "        self.first = patient_first\n",
    "        self.id = hpsj_id\n",
    "        self.address = patient_address\n",
    "        self.city = patient_city\n",
    "        self.state = patient_state\n",
    "        self.zip = patient_zip\n",
    "        import pandas as pd\n",
    "        ts = pd.to_datetime(str(patient_dob))\n",
    "        self.dob = ts.strftime('%Y%m%d')\n",
    "        if(int(patient_gender) == 0):\n",
    "            self.gender = 'F'\n",
    "        elif(int(patient_gender) == 1):\n",
    "            self.gender = 'M'\n",
    "        else:\n",
    "            self.gender = 'U'"
   ]
  },
  {
   "cell_type": "code",
   "execution_count": 3,
   "metadata": {},
   "outputs": [],
   "source": [
    "class Transaction:\n",
    "    \n",
    "    # *** num of lines is currently 32 ***\n",
    "    \n",
    "    num_of_lines = 32\n",
    "    \n",
    "    def __init__(self, count, iday, itime, patient_obj, consult_id, responded_date,\n",
    "                 icd10_code, sr_last, sr_first, sr_npi, CCI_BLANK_or_MED):\n",
    "        self.data = f'ST*837*{count}*005010X222A1*~\\nBHT*0019*00*0123*{iday}*{itime}*RP*~\\nNM1*41*2*AFYA GLOBAL INC*****46*1982269031*~\\nPER*IC*AFYA SUPPORT*TE*9493995380*EM*admin@afyachat.com*~\\nNM1*40*2*HPSJ*****46*00303*~\\nHL*1**20*1*~\\nPRV*BI*PXC*261QM1300X*~\\nNM1*85*2*HUBMD*****XX*1982269031*~\\nN3*104 E Olive Ave*Suite 100*~\\nN4*Redlands*CA*92373-5255*~\\nREF*EI*83-2774928*~\\nPER*IC*Stanley Frencher*TE*9094559473*~\\nHL*2*1*22*0*~\\nSBR*S*18*******MC*~\\nNM1*IL*1*{patient_obj.last}*{patient_obj.first}****MI*{patient_obj.id}*~\\nN3*{patient_obj.address}**~\\nN4*{patient_obj.city}*{patient_obj.state}*{patient_obj.zip}*~\\nDMG*D8*{patient_obj.dob}*{patient_obj.gender}*~\\nNM1*PR*2*HPSJ*****PI*00303*~\\nN3*7751 S Manthey Rd**~\\nN4*French Camp*CA*95231*~\\nCLM*{consult_id}*34.50***02:B:01*Y*A*Y*Y*~\\nDTP*304*D8*{responded_date}*~\\nCN1*05*0*~\\nHI*ABK:{icd10_code}*~\\nNM1*82*1*{sr_last}*{sr_first}****XX*{sr_npi}*~\\nSBR*P*18**{CCI_BLANK_or_MED}*****MC*~\\nAMT*A8*0*~\\nLX*1*~\\nSV1*99451:GQ*34.50*UN*1*02***~\\nDTP*472*D8*20200226*~\\nSE*32*{count}*~\\n'"
   ]
  },
  {
   "cell_type": "code",
   "execution_count": null,
   "metadata": {},
   "outputs": [],
   "source": []
  },
  {
   "cell_type": "code",
   "execution_count": null,
   "metadata": {},
   "outputs": [],
   "source": [
    "\n"
   ]
  },
  {
   "cell_type": "code",
   "execution_count": 43,
   "metadata": {},
   "outputs": [],
   "source": [
    "#\n",
    "# @dev\n",
    "# \n",
    "# input: Custom-made Connection object, Pandas Series for that 'row'\n",
    "# output: Transaction Object\n",
    "#\n",
    "# need to define count, iday, itime, patient_obj, consult_id, responded_date,\n",
    "#                 icd10_code, sr_last, sr_first, sr_npi, CCI_BLANK_or_MED\n",
    "# \n",
    "# \n",
    "def make_transaction(c, num, chat_session):\n",
    "    from datetime import date\n",
    "    from datetime import datetime\n",
    "\n",
    "    today = date.today()\n",
    "    now = datetime.now()\n",
    "    iday = today.strftime(\"%y%m%d\")\n",
    "    itime = now.strftime(\"%H%M\")\n",
    "    \n",
    "    the_patient = c.make_patient(chat_session['patient_id'])\n",
    "    \n",
    "    # Consult ID - ask Alvin if there is a conversion?\n",
    "    # From '53c213f0-ca29-11eb-8fc4-d1320f706d01' to something?\n",
    "    \n",
    "    # Ask Alvin what the responded date is?\n",
    "    # Options - Index(['id', 'status', 'close_codes', 'speciality', 'permissions', 'createdAt',\n",
    "    #   'updatedAt', 'members', 'chief_complaint', 'owner_id_1', 'owner_id_2',\n",
    "    #   'last_sender_name', 'last_sent_message', 'last_sent_type', 'read_by',\n",
    "    #   'agora_ids', 'last_sender_id', 'updatedTime', 'patient_id',\n",
    "    #   'patient_agora_id', 'org_id', 'ICD', 'CPT', 'is_archive',\n",
    "    #   'close_code_date', 'language'],\n",
    "    #  dtype='object')\n",
    "    values = c.get_responded_date_and_sr(chat_session['id'])\n",
    "    if(values == None):\n",
    "        return None\n",
    "    import pandas as pd\n",
    "    ts = pd.to_datetime(str(values[0])) \n",
    "    the_responded_date = ts.strftime('%Y%m%d')\n",
    "    the_sr_last = values[1]['Last']\n",
    "    the_sr_first = values[1]['First']\n",
    "    the_sr_npi = values[1]['NPI']\n",
    "    \n",
    "    the_icd = chat_session['ICD'][:chat_session['ICD'].find(' ')]\n",
    "    \n",
    "    # How to extract SR?\n",
    "    # Get owners? Compare them?\n",
    "    # Can't tell from user list who the PCP is or SR\n",
    "    # Options - Index(['user_id', 'MPI', 'first_name', 'last_name', 'dob', 'address',\n",
    "    #   'createdAt', 'updatedAt', 'email', 'mobile', 'password', 'gender',\n",
    "    #   'MRN', 'middle_name', 'registration_type_id', 'hospital_name',\n",
    "    #   'image_url', 'spec_id', 'about', 'user_code', 'card_val', 'home_phone',\n",
    "    #   'city', 'state', 'country', 'zipcode', 'org_id', 'experience', 'status',\n",
    "    #   'role_id', (all of them were 0) 'insurance', 'employer', 'agora_id', 'token', 'device',\n",
    "    #   'assign_time', 'fire_token', 'dobi', 'bio', 'live_status', 'npi',\n",
    "    #   'medical_group', 'amount', 'volume', 'response_time',\n",
    "    #   'non_face_to_face', 'CIN'],\n",
    "    # dtype='object')\n",
    "    \n",
    "    # Also, can't tell CCI_BLANK_or_MED\n",
    "#\n",
    "#\n",
    "#\n",
    "#\n",
    "#\n",
    "    return Transaction(num, iday, itime, the_patient, None, the_responded_date,\n",
    "                 the_icd, the_sr_last, the_sr_first, the_sr_npi, '')"
   ]
  },
  {
   "cell_type": "code",
   "execution_count": null,
   "metadata": {
    "scrolled": true
   },
   "outputs": [],
   "source": []
  },
  {
   "cell_type": "code",
   "execution_count": 89,
   "metadata": {},
   "outputs": [],
   "source": [
    "test_connection = Connection('afyaproduction')\n",
    "test_chat_session = test_connection.get_chats().loc[120:172]"
   ]
  },
  {
   "cell_type": "code",
   "execution_count": 90,
   "metadata": {},
   "outputs": [
    {
     "data": {
      "text/plain": [
       "53"
      ]
     },
     "execution_count": 90,
     "metadata": {},
     "output_type": "execute_result"
    }
   ],
   "source": [
    "len(test_chat_session)"
   ]
  },
  {
   "cell_type": "code",
   "execution_count": 91,
   "metadata": {},
   "outputs": [
    {
     "name": "stderr",
     "output_type": "stream",
     "text": [
      "<ipython-input-48-0dd4f87916b8>:68: DeprecationWarning: The truth value of an empty array is ambiguous. Returning False, but in future this will result in an error. Use `array.size > 0` to check that an array is not empty.\n",
      "  a = chat_role_in_order.index('Responder Provider')\n"
     ]
    }
   ],
   "source": [
    "c = 1\n",
    "dat = []\n",
    "for x in np.arange(len(test_chat_session)):\n",
    "    try:\n",
    "        dat.append(make_transaction(test_connection, c, test_chat_session.iloc[x]).data)\n",
    "        c += 1\n",
    "    except:\n",
    "        pass"
   ]
  },
  {
   "cell_type": "code",
   "execution_count": 92,
   "metadata": {},
   "outputs": [
    {
     "data": {
      "text/plain": [
       "33"
      ]
     },
     "execution_count": 92,
     "metadata": {},
     "output_type": "execute_result"
    }
   ],
   "source": [
    "c"
   ]
  },
  {
   "cell_type": "code",
   "execution_count": null,
   "metadata": {},
   "outputs": [],
   "source": []
  },
  {
   "cell_type": "code",
   "execution_count": 58,
   "metadata": {},
   "outputs": [],
   "source": [
    "envelope_start = everything[:2]\n",
    "transaction_arr = everything[2:-2]\n",
    "envelope_end = everything[-2:]"
   ]
  },
  {
   "cell_type": "code",
   "execution_count": 73,
   "metadata": {},
   "outputs": [],
   "source": [
    "temp = ''\n",
    "for e in envelope_end[1]:\n",
    "    temp += str(e) + '*'"
   ]
  },
  {
   "cell_type": "code",
   "execution_count": 74,
   "metadata": {},
   "outputs": [
    {
     "data": {
      "text/plain": [
       "'IEA*1*{interchange_control_number }*'"
      ]
     },
     "execution_count": 74,
     "metadata": {},
     "output_type": "execute_result"
    }
   ],
   "source": [
    "temp"
   ]
  },
  {
   "cell_type": "code",
   "execution_count": 84,
   "metadata": {},
   "outputs": [],
   "source": [
    "def create_file(transactions):\n",
    "    from datetime import date\n",
    "    from datetime import datetime\n",
    "    from random import uniform\n",
    "    today = date.today()\n",
    "    now = datetime.now()\n",
    "    iday = today.strftime(\"%y%m%d\")\n",
    "    itime = now.strftime(\"%H%M\")\n",
    "    num_of_transactions = len(transactions)\n",
    "    interchange_control_number = str(int(uniform(1,999999999))).zfill(9)\n",
    "    group_control_number = str(int(uniform(1,999999999))).zfill(9)\n",
    "    info = f'ISA*00*          *00*          *ZZ*221596*ZZ*ZIRMED*{iday}*{itime}*^*00501*{interchange_control_number}*1*P*:~\\n'\n",
    "    info += f'GS*HC*221596*ZIRMED*{iday}*{itime}*{group_control_number}*X*005010X222A1*\\n'\n",
    "    for t in transactions:\n",
    "        info += t\n",
    "    info += f'GE*{num_of_transactions}*{group_control_number}*\\n'\n",
    "    info += f'IEA*1*{interchange_control_number}*'\n",
    "    os.chdir('C:/Users/Melton/OneDrive/Documents/Afya/HPSJ')\n",
    "    f = open(f\"test_batch_HPSJ_{interchange_control_number}.edi\", \"w\")\n",
    "    f.write(info)\n",
    "    f.close()"
   ]
  },
  {
   "cell_type": "code",
   "execution_count": 85,
   "metadata": {},
   "outputs": [],
   "source": [
    "create_file(dat)"
   ]
  },
  {
   "cell_type": "code",
   "execution_count": null,
   "metadata": {},
   "outputs": [],
   "source": []
  },
  {
   "cell_type": "code",
   "execution_count": null,
   "metadata": {
    "scrolled": true
   },
   "outputs": [],
   "source": []
  },
  {
   "cell_type": "code",
   "execution_count": null,
   "metadata": {
    "scrolled": false
   },
   "outputs": [],
   "source": []
  },
  {
   "cell_type": "code",
   "execution_count": 20,
   "metadata": {},
   "outputs": [
    {
     "data": {
      "text/plain": [
       "Index(['user_id', 'MPI', 'first_name', 'last_name', 'dob', 'address',\n",
       "       'createdAt', 'updatedAt', 'email', 'mobile', 'password', 'gender',\n",
       "       'MRN', 'middle_name', 'registration_type_id', 'hospital_name',\n",
       "       'image_url', 'spec_id', 'about', 'user_code', 'card_val', 'home_phone',\n",
       "       'city', 'state', 'country', 'zipcode', 'org_id', 'experience', 'status',\n",
       "       'role_id', 'insurance', 'employer', 'agora_id', 'token', 'device',\n",
       "       'assign_time', 'fire_token', 'dobi', 'bio', 'live_status', 'npi',\n",
       "       'medical_group', 'amount', 'volume', 'response_time',\n",
       "       'non_face_to_face', 'CIN', 'paypal_customer_id', 'stripe_customer_id',\n",
       "       'member_identity'],\n",
       "      dtype='object')"
      ]
     },
     "execution_count": 20,
     "metadata": {},
     "output_type": "execute_result"
    }
   ],
   "source": [
    "test_connection.users.columns"
   ]
  },
  {
   "cell_type": "code",
   "execution_count": 28,
   "metadata": {},
   "outputs": [
    {
     "data": {
      "text/plain": [
       "Index(['from_id', 'from_name', 'message', 'link', 'img_url', 'updatedAt', 'id',\n",
       "       'session_id', 'speciality', 'datatype', 'createdAt', 'time',\n",
       "       'shortlink', 'trans_message', 'language'],\n",
       "      dtype='object')"
      ]
     },
     "execution_count": 28,
     "metadata": {},
     "output_type": "execute_result"
    }
   ],
   "source": [
    "test_connection.chat_data.columns"
   ]
  },
  {
   "cell_type": "markdown",
   "metadata": {},
   "source": [
    "## Workflow for finding first responded \n",
    "### chat_session_id --> messages --> user_ids --> role_map --> roles --> find 2nd SR index --> map back to message time"
   ]
  },
  {
   "cell_type": "code",
   "execution_count": 22,
   "metadata": {},
   "outputs": [],
   "source": [
    "t = test_connection.chat_data['session_id'].to_numpy()\n",
    "c = 0\n",
    "important_indices = np.where(t == 'a6deb140-d534-11eb-975f-63ef74eb6968')\n",
    "test_chat = []\n",
    "for i in important_indices:\n",
    "    test_chat.append(test_connection.chat_data['message'].to_numpy()[i])"
   ]
  },
  {
   "cell_type": "code",
   "execution_count": 23,
   "metadata": {},
   "outputs": [
    {
     "data": {
      "text/plain": [
       "[array([\"This chat has been assigned to Dr. Lori  Hobbs (Dermatology) and the provider will respond to this chat after they've reviewed\",\n",
       "        'SuperAdmin has added  Dr.HarryDao to the chat',\n",
       "        'Hello Dr. Dao, I hope you were able to log into the account. ',\n",
       "        'able to log on - all clear!',\n",
       "        'Thats great!. feel free to try the app and if you have any questions please let me know',\n",
       "        'will do!'], dtype=object)]"
      ]
     },
     "execution_count": 23,
     "metadata": {},
     "output_type": "execute_result"
    }
   ],
   "source": [
    "test_chat"
   ]
  },
  {
   "cell_type": "code",
   "execution_count": null,
   "metadata": {},
   "outputs": [],
   "source": []
  },
  {
   "cell_type": "code",
   "execution_count": 108,
   "metadata": {},
   "outputs": [
    {
     "data": {
      "text/plain": [
       "Index(['role_id', 'role_name', 'createdAt', 'updatedAt', 'image_url',\n",
       "       'description'],\n",
       "      dtype='object')"
      ]
     },
     "execution_count": 108,
     "metadata": {},
     "output_type": "execute_result"
    }
   ],
   "source": [
    "test_connection.roles.columns"
   ]
  },
  {
   "cell_type": "code",
   "execution_count": 109,
   "metadata": {
    "scrolled": false
   },
   "outputs": [
    {
     "data": {
      "text/plain": [
       "Index(['id', 'org_id', 'roles', 'createdAt', 'updatedAt', 'provider_id'], dtype='object')"
      ]
     },
     "execution_count": 109,
     "metadata": {},
     "output_type": "execute_result"
    }
   ],
   "source": [
    "test_connection.role_map.columns"
   ]
  },
  {
   "cell_type": "code",
   "execution_count": null,
   "metadata": {},
   "outputs": [],
   "source": []
  },
  {
   "cell_type": "code",
   "execution_count": null,
   "metadata": {},
   "outputs": [],
   "source": []
  },
  {
   "cell_type": "code",
   "execution_count": 110,
   "metadata": {},
   "outputs": [],
   "source": [
    "# Test on last session\n",
    "test_chat_session = test_connection.get_chats().loc[173]\n",
    "# Pull information on last sessions"
   ]
  },
  {
   "cell_type": "code",
   "execution_count": null,
   "metadata": {},
   "outputs": [],
   "source": []
  },
  {
   "cell_type": "code",
   "execution_count": null,
   "metadata": {},
   "outputs": [],
   "source": []
  },
  {
   "cell_type": "code",
   "execution_count": null,
   "metadata": {},
   "outputs": [],
   "source": []
  },
  {
   "cell_type": "code",
   "execution_count": null,
   "metadata": {},
   "outputs": [],
   "source": []
  },
  {
   "cell_type": "code",
   "execution_count": null,
   "metadata": {},
   "outputs": [],
   "source": []
  },
  {
   "cell_type": "code",
   "execution_count": 87,
   "metadata": {},
   "outputs": [],
   "source": [
    "# Make a Patient Object\n"
   ]
  },
  {
   "cell_type": "code",
   "execution_count": null,
   "metadata": {},
   "outputs": [],
   "source": []
  },
  {
   "cell_type": "code",
   "execution_count": null,
   "metadata": {},
   "outputs": [],
   "source": []
  },
  {
   "cell_type": "code",
   "execution_count": null,
   "metadata": {},
   "outputs": [],
   "source": []
  },
  {
   "cell_type": "code",
   "execution_count": null,
   "metadata": {},
   "outputs": [],
   "source": []
  },
  {
   "cell_type": "code",
   "execution_count": null,
   "metadata": {},
   "outputs": [],
   "source": []
  },
  {
   "cell_type": "code",
   "execution_count": null,
   "metadata": {},
   "outputs": [],
   "source": []
  },
  {
   "cell_type": "markdown",
   "metadata": {},
   "source": [
    "### 837P Formatting"
   ]
  },
  {
   "cell_type": "code",
   "execution_count": null,
   "metadata": {
    "scrolled": true
   },
   "outputs": [],
   "source": [
    "import pandas as pd\n",
    "\n",
    "df = pd.read_excel('Updated_HPSJ837PFieldDescriptionsMeltonEd.xlsx', engine='openpyxl')"
   ]
  },
  {
   "cell_type": "code",
   "execution_count": null,
   "metadata": {},
   "outputs": [],
   "source": [
    "df"
   ]
  },
  {
   "cell_type": "code",
   "execution_count": 54,
   "metadata": {},
   "outputs": [],
   "source": [
    "def isnan(x):\n",
    "    try:\n",
    "        y = float(x)\n",
    "        return math.isnan(y)\n",
    "    except:\n",
    "        return False"
   ]
  },
  {
   "cell_type": "code",
   "execution_count": 55,
   "metadata": {},
   "outputs": [],
   "source": [
    "import math\n",
    "\n",
    "test = []\n",
    "arr = []\n",
    "for e in df['Example']:\n",
    "    if(isnan(e)):\n",
    "        test.append(arr)\n",
    "        arr = []\n",
    "    else:\n",
    "        if(e == '{BLANK}'):\n",
    "            arr.append('')\n",
    "        else:\n",
    "            arr.append(e)\n"
   ]
  },
  {
   "cell_type": "code",
   "execution_count": 56,
   "metadata": {},
   "outputs": [],
   "source": [
    "everything = test[1:]"
   ]
  },
  {
   "cell_type": "code",
   "execution_count": 57,
   "metadata": {},
   "outputs": [],
   "source": [
    "envelope_start = everything[:2]\n",
    "transaction_arr = everything[2:-2]\n",
    "envelope_end = everything[-2:]"
   ]
  },
  {
   "cell_type": "code",
   "execution_count": 26,
   "metadata": {
    "scrolled": false
   },
   "outputs": [
    {
     "data": {
      "text/plain": [
       "32"
      ]
     },
     "execution_count": 26,
     "metadata": {},
     "output_type": "execute_result"
    }
   ],
   "source": [
    "len(transaction_arr)"
   ]
  },
  {
   "cell_type": "code",
   "execution_count": 27,
   "metadata": {},
   "outputs": [],
   "source": [
    "transaction = ''\n",
    "newline = '\\n'\n",
    "for t in transaction_arr:\n",
    "    for i,_t in enumerate(t):\n",
    "        if i != (len(t)):\n",
    "            transaction += str(_t)\n",
    "            transaction += '*'\n",
    "    transaction += f'~{newline}'"
   ]
  },
  {
   "cell_type": "code",
   "execution_count": 28,
   "metadata": {
    "scrolled": true
   },
   "outputs": [
    {
     "data": {
      "text/plain": [
       "'ST*837*{count}*005010X222A1*~\\nBHT*0019*00*0123*{iday}*{itime}*RP*~\\nNM1*41*2*AFYA GLOBAL INC*****46*1982269031*~\\nPER*IC*AFYA SUPPORT*TE*9493995380*EM*admin@afyachat.com*~\\nNM1*40*2*HPSJ*****46*00303*~\\nHL*1**20*1*~\\nPRV*BI*PXC*261QM1300X*~\\nNM1*85*2*HUBMD*****XX*1982269031*~\\nN3*104 E Olive Ave*Suite 100*~\\nN4*Redlands*CA*92373-5255*~\\nREF*EI*83-2774928*~\\nPER*IC*Stanley Frencher*TE*9094559473*~\\nHL*2*1*22*0*~\\nSBR*S*18*******MC*~\\nNM1*IL*1*{patient_last}*{patient_first}****MI*{hpsj_id}*~\\nN3*{patient_address}**~\\nN4*{patient_city}*{patient_state}*{patient_zip}*~\\nDMG*D8*{patient_dob}*{patient_gender}*~\\nNM1*PR*2*HPSJ*****PI*00303*~\\nN3*7751 S Manthey Rd**~\\nN4*French Camp*CA*95231*~\\nCLM*{consult_id}*34.50***02:B:01*Y*A*Y*Y*~\\nDTP*304*D8*{responded_date}*~\\nCN1*05*0*~\\nHI*ABK:{icd10_code}*~\\nNM1*82*1*{sr_last}*{sr_first}****XX*{sr_npi}*~\\nSBR*P*18**{CCI_BLANK_or_MED}*****MC*~\\nAMT*A8*0*~\\nLX*1*~\\nSV1*99451:GQ*34.50*UN*1*02***~\\nDTP*472*D8*20200226*~\\nSE*{num_of_lines}*{count}*~\\n'"
      ]
     },
     "execution_count": 28,
     "metadata": {},
     "output_type": "execute_result"
    }
   ],
   "source": [
    "transaction"
   ]
  },
  {
   "cell_type": "code",
   "execution_count": 29,
   "metadata": {},
   "outputs": [
    {
     "name": "stdout",
     "output_type": "stream",
     "text": [
      "ST*837*{count}*005010X222A1*~\n",
      "BHT*0019*00*0123*{iday}*{itime}*RP*~\n",
      "NM1*41*2*AFYA GLOBAL INC*****46*1982269031*~\n",
      "PER*IC*AFYA SUPPORT*TE*9493995380*EM*admin@afyachat.com*~\n",
      "NM1*40*2*HPSJ*****46*00303*~\n",
      "HL*1**20*1*~\n",
      "PRV*BI*PXC*261QM1300X*~\n",
      "NM1*85*2*HUBMD*****XX*1982269031*~\n",
      "N3*104 E Olive Ave*Suite 100*~\n",
      "N4*Redlands*CA*92373-5255*~\n",
      "REF*EI*83-2774928*~\n",
      "PER*IC*Stanley Frencher*TE*9094559473*~\n",
      "HL*2*1*22*0*~\n",
      "SBR*S*18*******MC*~\n",
      "NM1*IL*1*{patient_last}*{patient_first}****MI*{hpsj_id}*~\n",
      "N3*{patient_address}**~\n",
      "N4*{patient_city}*{patient_state}*{patient_zip}*~\n",
      "DMG*D8*{patient_dob}*{patient_gender}*~\n",
      "NM1*PR*2*HPSJ*****PI*00303*~\n",
      "N3*7751 S Manthey Rd**~\n",
      "N4*French Camp*CA*95231*~\n",
      "CLM*{consult_id}*34.50***02:B:01*Y*A*Y*Y*~\n",
      "DTP*304*D8*{responded_date}*~\n",
      "CN1*05*0*~\n",
      "HI*ABK:{icd10_code}*~\n",
      "NM1*82*1*{sr_last}*{sr_first}****XX*{sr_npi}*~\n",
      "SBR*P*18**{CCI_BLANK_or_MED}*****MC*~\n",
      "AMT*A8*0*~\n",
      "LX*1*~\n",
      "SV1*99451:GQ*34.50*UN*1*02***~\n",
      "DTP*472*D8*20200226*~\n",
      "SE*{num_of_lines}*{count}*~\n",
      "\n"
     ]
    }
   ],
   "source": [
    "print(transaction)"
   ]
  },
  {
   "cell_type": "markdown",
   "metadata": {},
   "source": [
    "\"\n",
    "Expected Values (Dual Members): Subscriber Group Name (2000B - SBR04) & Claim Filing Indicator Code (2000B - SBR09)\n",
    "\n",
    "1.\tSBR*S*18**CMC*****MB   (CMC/MB = Medicare Professional)\n",
    "a.\tExpected when Dual member claims are adjudicated under the Medicare line of business.\n",
    "b.\tWarning: Failure to populate the expected value in the 2000B_SBR04 segment will result in encounter data rejections. \n",
    "\n",
    "2.\tSBR*S*18**CMC*****MA   (CMC/MA = Medicare Institutional)\n",
    "a.\tExpected when dual member claims are adjudicated under the Medicare line of business.\n",
    "b.\tWarning: Failure to populate the expected value in the 2000B_SBR04 segment will result in encounter data rejections. \n",
    "\n",
    "\n",
    "3.\tSBR*S*18**CCI*****MC   (CCI/MC = Medicaid Professional and/or Institutional)\n",
    "a.\tExpected when Dual member claims are adjudicated under the Medicaid line of business.\n",
    "b.\tWarning: Failure to populate the expected value in the 2000B_SBR04 segment will result in encounter data rejections. \n",
    "\n",
    "\n",
    "Expected Values (Medicaid Members): Subscriber Group Name (2000B - SBR04) & Claim Filing Indicator Code (2000B - SBR09)\n",
    "\n",
    "1.\tSBR*S*18*******MC   ([Blank – SBR04]/MC = Medicaid Professional and/or Institutional)\n",
    "a.\tExpected when Medicaid member claims are adjudicated under the Medicaid line of business.\n",
    "b.\tWarning: Failure to populate the expected value in the 2000B_SBR04 segment will result in encounter data rejections. \n",
    "\n",
    "2.\tSBR*S*18**MED *****MC   (MED/MC = Medicaid Professional and/or Institutional)\n",
    "a.\tExpected when dual member claims are adjudicated under the Medicare contracted rates.\n",
    "b.\tWarning: Failure to populate the expected value in the 2000B_SBR04 segment will result in encounter data rejections. \n",
    "\n",
    "3.\tNote: Both options 1 & 2 are acceptable for claims adjudicated under the non-dual Medicaid line of business. \""
   ]
  },
  {
   "cell_type": "code",
   "execution_count": 12,
   "metadata": {},
   "outputs": [],
   "source": []
  },
  {
   "cell_type": "code",
   "execution_count": null,
   "metadata": {},
   "outputs": [],
   "source": []
  }
 ],
 "metadata": {
  "kernelspec": {
   "display_name": "Python 3",
   "language": "python",
   "name": "python3"
  },
  "language_info": {
   "codemirror_mode": {
    "name": "ipython",
    "version": 3
   },
   "file_extension": ".py",
   "mimetype": "text/x-python",
   "name": "python",
   "nbconvert_exporter": "python",
   "pygments_lexer": "ipython3",
   "version": "3.9.0"
  }
 },
 "nbformat": 4,
 "nbformat_minor": 4
}
