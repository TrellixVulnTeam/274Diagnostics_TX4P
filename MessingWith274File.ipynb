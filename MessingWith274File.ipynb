{
 "cells": [
  {
   "cell_type": "markdown",
   "metadata": {},
   "source": [
    "# Companion Guide Stuff"
   ]
  },
  {
   "cell_type": "code",
   "execution_count": 1,
   "metadata": {
    "scrolled": true
   },
   "outputs": [],
   "source": [
    "import pandas as pd\n",
    "\n",
    "df = pd.read_excel(r\"C://Users//Melton//OneDrive//Documents//Afya//HPSJ//274CompanionGuideParsed.xlsx\", engine = \"openpyxl\")"
   ]
  },
  {
   "cell_type": "code",
   "execution_count": 2,
   "metadata": {},
   "outputs": [
    {
     "data": {
      "text/plain": [
       "array(['Loop\\xa0\\xa0', 'Reference\\xa0', 'Name\\xa0', 'Codes\\xa0',\n",
       "       'Notes/Comments'], dtype=object)"
      ]
     },
     "execution_count": 2,
     "metadata": {},
     "output_type": "execute_result"
    }
   ],
   "source": [
    "df.columns.values"
   ]
  },
  {
   "cell_type": "code",
   "execution_count": 3,
   "metadata": {},
   "outputs": [
    {
     "name": "stdout",
     "output_type": "stream",
     "text": [
      "[3.0, 0.0, 'ZZ', 'ZZ\\xa0', 'DHCS-PROV NETWK', '^', 405.0, 0.0, ':', 'PW', 'DHCS-PROV NETWK', '004050X109', 274.0, '004050X109\\xa0', 28.0, 27.0, 'ACV', 'FI', 'NN', 40.0, 'DHCS\\xa0\\xa0', 'Managed\\xa0\\xa0', 'Care', 'QV', 'XX\\xa0', '092, 093\\xa0', 68.0, 77.0, 'XX', 'AJ\\xa0', 'TE\\xa0', 'EM\\xa0', 'FX\\xa0', 'ENG\\xa0', 'A, B, C\\xa0 or D', '092,\\xa0\\xa0', 93.0, 'C4\\xa0', 'P7, P8\\xa0', 'DJ', '1R, 1S,\\xa0 1T, 1U,\\xa0 1V, 1Y,\\xa0 2E, 2S', 'F, M', 77.0, 68.0, '3E, 3G\\xa0', 'N5', 30.0, 2.0, 'EQ\\xa0', '1P\\xa0', 'XX', 'ENG\\xa0', 4.0, 'A, B,\\xa0\\xa0', 'C or D', '092,\\xa0\\xa0', 93.0, 68.0, '3E, 3G\\xa0', 'YR\\xa0', 'Y\\xa0', 'N5']\n"
     ]
    }
   ],
   "source": [
    "import numpy as np\n",
    "import math\n",
    "\n",
    "_codes = df['Codes\\xa0'].to_numpy().tolist()\n",
    "codes = []\n",
    "\n",
    "for i in df['Codes\\xa0'].to_numpy().tolist():\n",
    "    try:\n",
    "        v = (float(i))\n",
    "        if not (math.isnan(v)):\n",
    "            codes.append(v)\n",
    "    except:\n",
    "        codes.append(i)\n",
    "        pass\n",
    "        \n",
    "print(codes)"
   ]
  },
  {
   "cell_type": "code",
   "execution_count": 4,
   "metadata": {},
   "outputs": [],
   "source": [
    "_names = df['Name\\xa0'].to_numpy().tolist()"
   ]
  },
  {
   "cell_type": "code",
   "execution_count": 5,
   "metadata": {},
   "outputs": [],
   "source": [
    "import unicodedata\n",
    "\n",
    "_references = df['Reference\\xa0'].to_numpy().tolist()\n",
    "references = []\n",
    "\n",
    "for i in df['Reference\\xa0'].to_numpy().tolist():\n",
    "    try:\n",
    "        v = (float(i))\n",
    "        if not (math.isnan(v)):\n",
    "            references.append(unicodedata.normalize(\"NFKD\", v))\n",
    "    except:\n",
    "        references.append(unicodedata.normalize(\"NFKD\", i))\n",
    "        pass"
   ]
  },
  {
   "cell_type": "code",
   "execution_count": 6,
   "metadata": {},
   "outputs": [
    {
     "name": "stdout",
     "output_type": "stream",
     "text": [
      "172\n"
     ]
    }
   ],
   "source": [
    "names = []\n",
    "for i,r in enumerate(_references):\n",
    "    new_i = i\n",
    "    try:\n",
    "        # Usually, v will be nan, but what if not?\n",
    "        v = float(r)\n",
    "    except:\n",
    "        # If v is a string, begin collecting \"names\"\n",
    "        t_name = _names[new_i]\n",
    "        new_i = i+1\n",
    "        while(True):\n",
    "            n = _names[new_i]\n",
    "            try:\n",
    "                # Usually, _v will be nan as well\n",
    "                # If it is nan, leave loop and save the full\n",
    "                # name of the header\n",
    "                _v = float(n)\n",
    "                if(math.isnan(_v)):\n",
    "                    names.append(t_name)\n",
    "                    break\n",
    "            except:\n",
    "                # Only combine if _references at the same\n",
    "                # index is also a nan else, break\n",
    "                __v = _references[new_i]\n",
    "                try:\n",
    "                    _r = float(__v)\n",
    "                    if(math.isnan(_r)):\n",
    "                        t_name = t_name + n\n",
    "                        new_i += 1\n",
    "                except:\n",
    "                    names.append(t_name)\n",
    "                    break\n",
    "\n",
    "print(len(names))"
   ]
  },
  {
   "cell_type": "code",
   "execution_count": 7,
   "metadata": {},
   "outputs": [
    {
     "name": "stdout",
     "output_type": "stream",
     "text": [
      "ISA12  Interchange  Control Version  Number\n"
     ]
    }
   ],
   "source": [
    "random_test_index = 0\n",
    "print(references[10],names[10])"
   ]
  },
  {
   "cell_type": "code",
   "execution_count": 8,
   "metadata": {},
   "outputs": [
    {
     "name": "stdout",
     "output_type": "stream",
     "text": [
      "['ID', 'ISA', 'IEA', 'GS', 'GE', 'ST', 'SE', 'BHT', '2100AA', '2100AB', '2100BA', '2100CA', '2120CA', '2140CA', '2100CB', '2100DA', '2110DA', '2120DA', '2140DA', '2100DB', '2100EA', '2120EA', '2140EA']\n"
     ]
    }
   ],
   "source": [
    "import numpy as np\n",
    "import math\n",
    "\n",
    "_loops = df['Loop\\xa0\\xa0'].to_numpy().tolist()\n",
    "loops = []\n",
    "\n",
    "for i in _loops:\n",
    "    try:\n",
    "        v = (float(i))\n",
    "        if not (math.isnan(v)):\n",
    "            loops.append(unicodedata.normalize(\"NFKD\", v.strip()))\n",
    "    except:\n",
    "        loops.append(unicodedata.normalize(\"NFKD\", i.strip()))\n",
    "        pass\n",
    "        \n",
    "print(loops)"
   ]
  },
  {
   "cell_type": "code",
   "execution_count": 9,
   "metadata": {},
   "outputs": [],
   "source": [
    "d = {}\n",
    "for l in loops:\n",
    "    _d = {}\n",
    "    for i,m in enumerate(references):\n",
    "        if(l in m):\n",
    "            _d[m] = unicodedata.normalize(\"NFKD\", names[i])\n",
    "    d[l] = _d\n"
   ]
  },
  {
   "cell_type": "code",
   "execution_count": 10,
   "metadata": {},
   "outputs": [],
   "source": [
    "loop_dict = {}\n",
    "index = 0\n",
    "while(True):\n",
    "    _loop_storage = ''\n",
    "    try:\n",
    "        v = float(_loops[index])\n",
    "    except:\n",
    "        try:\n",
    "            _loop_storage = _loops[index]\n",
    "        except:\n",
    "            break\n",
    "        try:\n",
    "            _ref_arr = [_references[index]]\n",
    "        except:\n",
    "            pass\n",
    "        while(True):\n",
    "            index+=1\n",
    "            try:\n",
    "                v = float(_loops[index])\n",
    "                if(math.isnan(v)):\n",
    "                    try:\n",
    "                        _ref_arr.append(_references[index])\n",
    "                    except:\n",
    "                        pass\n",
    "            except:\n",
    "                break\n",
    "            \n",
    "        loop_dict[_loop_storage]=_ref_arr"
   ]
  },
  {
   "cell_type": "code",
   "execution_count": 11,
   "metadata": {},
   "outputs": [],
   "source": [
    "c_dict = {}\n",
    "for i in loop_dict:\n",
    "    arr = []\n",
    "    for j in loop_dict[i]:\n",
    "        try:\n",
    "            math.isnan(j)\n",
    "        except:\n",
    "            arr.append(j)\n",
    "    c_dict[i] = arr"
   ]
  },
  {
   "cell_type": "code",
   "execution_count": 12,
   "metadata": {},
   "outputs": [],
   "source": [
    "m_dict = {}\n",
    "_index_ = 0\n",
    "for i in c_dict:\n",
    "    s_dict = {}\n",
    "    for j in c_dict[i]:\n",
    "        s_dict[j] = names[_index_]\n",
    "        _index_+=1\n",
    "    m_dict[i] = s_dict"
   ]
  },
  {
   "cell_type": "code",
   "execution_count": 13,
   "metadata": {
    "scrolled": false
   },
   "outputs": [
    {
     "data": {
      "text/plain": [
       "{'ID': {},\n",
       " 'ISA\\xa0': {'ISA\\xa0': 'Interchange\\xa0\\xa0Control Header',\n",
       "  'ISA01\\xa0': 'Authorization\\xa0 Information\\xa0Qualifier',\n",
       "  'ISA02\\xa0': 'Authorization\\xa0 Information',\n",
       "  'ISA03\\xa0': 'Security\\xa0\\xa0Information\\xa0\\xa0Qualifier',\n",
       "  'ISA04\\xa0': 'Security\\xa0\\xa0Information',\n",
       "  'ISA05\\xa0': 'Interchange ID\\xa0 Qualifier',\n",
       "  'ISA06\\xa0': 'Interchange\\xa0\\xa0Sender ID',\n",
       "  'ISA07\\xa0': 'Interchange ID\\xa0 Qualifier',\n",
       "  'ISA08\\xa0': 'Interchange\\xa0\\xa0Receiver ID',\n",
       "  'ISA11\\xa0': 'Repetition\\xa0\\xa0Separator',\n",
       "  'ISA12\\xa0': 'Interchange\\xa0\\xa0Control Version\\xa0 Number',\n",
       "  'ISA13\\xa0': 'Interchange\\xa0\\xa0Control\\xa0\\xa0Number',\n",
       "  'ISA14\\xa0': 'Acknowledgem ent Requested',\n",
       "  'ISA16\\xa0': 'Component\\xa0\\xa0Element\\xa0\\xa0Separator'},\n",
       " 'IEA\\xa0': {'IEA\\xa0': 'Interchange\\xa0\\xa0Control Trailer',\n",
       "  'IEA02\\xa0': 'Interchange\\xa0\\xa0Control\\xa0\\xa0Number'},\n",
       " 'GS\\xa0': {'GS\\xa0': 'Functional\\xa0\\xa0Group Header',\n",
       "  'GS01\\xa0': 'Functional\\xa0\\xa0Identifier Code',\n",
       "  'GS02\\xa0': \"Application\\xa0\\xa0Sender's Code\",\n",
       "  'GS03\\xa0': \"Application\\xa0\\xa0Receiver's\\xa0\\xa0Code\",\n",
       "  'GS06\\xa0': 'Group Control\\xa0 Number',\n",
       "  'GS08\\xa0': 'Version /\\xa0\\xa0Release /\\xa0\\xa0Industry\\xa0\\xa0Identifier Code'},\n",
       " 'GE\\xa0': {'GE\\xa0': 'Functional\\xa0\\xa0Group Trailer',\n",
       "  'GE02\\xa0': 'Group Control\\xa0 Number'},\n",
       " 'ST\\xa0': {'ST\\xa0': 'Transaction\\xa0\\xa0Set Header',\n",
       "  'ST01\\xa0': 'Transaction\\xa0\\xa0Set Identifier\\xa0\\xa0Code',\n",
       "  'ST02\\xa0': 'Transaction\\xa0\\xa0Set Control\\xa0\\xa0Number',\n",
       "  'ST03\\xa0': 'Implementation\\xa0 Convention\\xa0\\xa0Reference'},\n",
       " 'SE\\xa0': {'SE\\xa0': 'Transaction\\xa0\\xa0Set Trailer',\n",
       "  'SE01\\xa0': 'Number of\\xa0\\xa0Included\\xa0\\xa0Segments',\n",
       "  'SE02\\xa0': 'Transaction\\xa0\\xa0Set Control\\xa0\\xa0Number'},\n",
       " 'BHT': {'BHT\\xa0': 'Beginning of\\xa0 Hierarchical \\xa0Transaction',\n",
       "  'BHT01\\xa0': 'Hierarchical\\xa0 Structure\\xa0\\xa0Code',\n",
       "  'BHT02\\xa0': 'Transaction\\xa0 Set Purpose\\xa0 Code',\n",
       "  'BHT03\\xa0': 'Submitter\\xa0\\xa0Transaction\\xa0 Identifier',\n",
       "  'BHT04\\xa0': 'Transaction\\xa0 Set Creation\\xa0 Date',\n",
       "  'BHT05\\xa0': 'Transaction\\xa0 Set Creation\\xa0 Time'},\n",
       " '2100AA\\xa0': {'NM1\\xa0': 'Information\\xa0 Source \\xa0Name',\n",
       "  'NM101\\xa0': 'Entity\\xa0\\xa0Identifier\\xa0\\xa0Code',\n",
       "  'NM103\\xa0': 'Organization\\xa0 Name',\n",
       "  'NM108\\xa0': 'Identification\\xa0 Code\\xa0\\xa0Qualifier',\n",
       "  'NM109\\xa0': 'Information\\xa0 Source\\xa0\\xa0Primary\\xa0Identifier'},\n",
       " '2100AB\\xa0': {'NM1\\xa0': 'Network\\xa0\\xa0Name',\n",
       "  'NM101\\xa0': 'Entity\\xa0\\xa0Identifier\\xa0\\xa0Code',\n",
       "  'NM103\\xa0': 'Organization\\xa0 Name'},\n",
       " '2100BA\\xa0': {'NM1\\xa0': 'Information\\xa0 Receiver \\xa0Name',\n",
       "  'NM101\\xa0': 'Entity\\xa0\\xa0Identifier\\xa0\\xa0Code',\n",
       "  'NM103\\xa0': 'Organization\\xa0 Name'},\n",
       " '2100CA\\xa0': {'NM1\\xa0': 'Provider\\xa0\\xa0Group Name',\n",
       "  'NM101\\xa0': 'Entity\\xa0\\xa0Identifier Code',\n",
       "  'NM103\\xa0': 'Provider\\xa0\\xa0Group Name',\n",
       "  'NM108\\xa0': 'Identifier Code\\xa0 Qualifier',\n",
       "  'NM109\\xa0': 'Identification\\xa0 Code',\n",
       "  'N2\\xa0': 'Additional\\xa0\\xa0Provider \\xa0Group Name \\xa0Information',\n",
       "  'N201\\xa0': 'Name\\xa0',\n",
       "  'DTP\\xa0': 'Provider\\xa0\\xa0Group’s \\xa0Participation \\xa0Dates',\n",
       "  'DTP01\\xa0': 'Date/Time\\xa0\\xa0Qualifier',\n",
       "  'DTP03\\xa0': 'Date Time\\xa0\\xa0Period'},\n",
       " '2120CA\\xa0': {'LQ\\xa0': 'Provider\\xa0\\xa0Group’s Area \\xa0of \\xa0Specialization',\n",
       "  'LQ01\\xa0': 'Code/List\\xa0\\xa0Qualifier Code',\n",
       "  'LQ02\\xa0': 'Industry Code\\xa0',\n",
       "  'TPB\\xa0': 'Provider\\xa0\\xa0Group’s \\xa0Network \\xa0/Product Role'},\n",
       " '2140CA\\xa0': {'REF\\xa0': 'Provider\\xa0\\xa0Group \\xa0Identification \\xa0Numbers'},\n",
       " '2100CB\\xa0': {'NM1\\xa0': 'Affiliated\\xa0\\xa0Entity Name',\n",
       "  'N2\\xa0': 'Affiliated\\xa0\\xa0Entity \\xa0Additional \\xa0Name \\xa0Information'},\n",
       " '2100DA\\xa0': {'NM1\\xa0': 'Site Name\\xa0',\n",
       "  'NM101\\xa0': 'Entity Identifier\\xa0 Code',\n",
       "  'NM103\\xa0': 'Site Name\\xa0',\n",
       "  'NM108\\xa0': 'Identifier Code\\xa0 Qualifier',\n",
       "  'NM109\\xa0': 'Identification\\xa0\\xa0Code',\n",
       "  'N2\\xa0': 'Site/Location\\xa0\\xa0Additional \\xa0Name \\xa0Information',\n",
       "  'N201\\xa0': 'Name\\xa0',\n",
       "  'N202\\xa0': 'Name\\xa0',\n",
       "  'PER\\xa0': 'Site Contact\\xa0\\xa0Information',\n",
       "  'PER01\\xa0': 'Contact\\xa0\\xa0Function Code',\n",
       "  'PER03\\xa0': 'Communication\\xa0 Number\\xa0\\xa0Qualifier',\n",
       "  'PER04\\xa0': 'Communication\\xa0 Number',\n",
       "  'PER05\\xa0': 'Communication\\xa0 Number\\xa0\\xa0Qualifier',\n",
       "  'PER06\\xa0': 'Communication\\xa0 Number',\n",
       "  'PER07\\xa0': 'Communication\\xa0 Number\\xa0\\xa0Qualifier',\n",
       "  'PER08\\xa0': 'Communication\\xa0 Number',\n",
       "  'LUI\\xa0': 'Foreign\\xa0\\xa0Languages \\xa0Spoken at this Site',\n",
       "  'LUI02\\xa0': 'Identification\\xa0\\xa0Code',\n",
       "  'LUI05\\xa0': 'Language\\xa0\\xa0Proficiency\\xa0\\xa0Indicator',\n",
       "  'DTP\\xa0': 'Site\\xa0Participation \\xa0Dates',\n",
       "  'DTP01\\xa0': 'Date/Time\\xa0\\xa0Qualifier',\n",
       "  'DTP03\\xa0': 'Date Time\\xa0\\xa0Period',\n",
       "  'WS\\xa0': 'Work Schedule\\xa0 at this Site',\n",
       "  'WS01\\xa0': 'Office Hours\\xa0\\xa0Code',\n",
       "  'WS02\\xa0': 'Office Hours\\xa0\\xa0Start Time',\n",
       "  'WS03\\xa0': 'Office Hours\\xa0\\xa0End Time',\n",
       "  'CRC\\xa0': 'Site Assistive\\xa0\\xa0Aid Information',\n",
       "  'CRC01\\xa0': 'Provider\\xa0\\xa0Characteristics\\xa0 and Resources',\n",
       "  'CRC03\\xa0': 'Patient\\xa0\\xa0Acceptance\\xa0\\xa0Indicator',\n",
       "  'CRC03,\\xa0': 'Site or Location\\xa0 Assistive Aid\\xa0\\xa0',\n",
       "  'CRC04,\\xa0': 'Indicator',\n",
       "  'CRC05,\\xa0': nan,\n",
       "  'CRC06,\\xa0': nan,\n",
       "  'CRC07': nan,\n",
       "  'PDI\\xa0': 'Practice\\xa0\\xa0Restrictions at \\xa0this Site',\n",
       "  'PDI01\\xa0': 'Gender\\xa0\\xa0Restriction\\xa0\\xa0Code',\n",
       "  'PDI02\\xa0': 'Age Range\\xa0\\xa0Minimum',\n",
       "  'PDI03\\xa0': 'Age Range\\xa0\\xa0Maximum'},\n",
       " '2110DA\\xa0': {'NX1\\xa0': 'Site Address\\xa0\\xa0Type',\n",
       "  'NX101\\xa0': 'Entity\\xa0\\xa0Identification\\xa0\\xa0Code',\n",
       "  'N3\\xa0': 'Site Street\\xa0\\xa0Address',\n",
       "  'N301\\xa0': 'Site Address\\xa0\\xa0Line 1',\n",
       "  'N302\\xa0': 'Site Address\\xa0\\xa0Line 2',\n",
       "  'N4\\xa0': 'Site Geographic\\xa0 Location',\n",
       "  'N401\\xa0': 'Site City\\xa0',\n",
       "  'N402\\xa0': 'Site State\\xa0',\n",
       "  'N403\\xa0': 'Site Zip Code\\xa0'},\n",
       " '2120DA\\xa0': {'LQ\\xa0': 'Site Area of\\xa0\\xa0Specialization',\n",
       "  'LQ01\\xa0': 'Code/List\\xa0\\xa0Qualifier Code',\n",
       "  'LQ02\\xa0': 'Industry Code\\xa0',\n",
       "  'TPB\\xa0': 'Network Role at\\xa0 this Site',\n",
       "  'TPB01\\xa0': 'Provider Group\\xa0 Network Role\\xa0 Code'},\n",
       " '2140DA\\xa0': {'REF\\xa0': 'Site\\xa0\\xa0Identification \\xa0Numbers',\n",
       "  'REF01\\xa0': 'Reference\\xa0\\xa0Identification\\xa0\\xa0Qualifier',\n",
       "  'REF02\\xa0': 'Reference\\xa0\\xa0Identification'},\n",
       " '2100DB\\xa0': {'NM1\\xa0': 'Affiliated Entity\\xa0 Name',\n",
       "  'NM101\\xa0': 'Entity Identifier\\xa0 Code',\n",
       "  'NM102\\xa0': 'Entity Qualifier\\xa0',\n",
       "  'NM103\\xa0': 'Name\\xa0',\n",
       "  'NM108\\xa0': 'Identification\\xa0\\xa0Code Qualifier',\n",
       "  'NM109\\xa0': 'Identification\\xa0\\xa0Code',\n",
       "  'N2\\xa0': 'Affiliated Entity\\xa0 Additional \\xa0Name \\xa0Information',\n",
       "  'N201\\xa0': 'Name\\xa0'},\n",
       " '2100EA\\xa0': {'NM1\\xa0': 'Provider Name\\xa0',\n",
       "  'NM101\\xa0': 'Entity Identifier\\xa0 Code',\n",
       "  'NM103\\xa0': 'Last Name\\xa0',\n",
       "  'NM104\\xa0': 'First Name\\xa0',\n",
       "  'NM105\\xa0': 'Middle Name\\xa0',\n",
       "  'NM107\\xa0': 'Suffix\\xa0',\n",
       "  'NM108\\xa0': 'Identifier Code\\xa0 Qualifier',\n",
       "  'NM109\\xa0': 'Identification\\xa0\\xa0Code',\n",
       "  'N2\\xa0': 'Additional\\xa0\\xa0Provider Name \\xa0Information',\n",
       "  'N201\\xa0': 'Name\\xa0',\n",
       "  'N202\\xa0': 'Name\\xa0',\n",
       "  'DEG\\xa0': 'Providers\\xa0\\xa0Degree \\xa0Information',\n",
       "  'DEG01\\xa0': 'Academic\\xa0\\xa0Degree Code',\n",
       "  'DEG04\\xa0': 'Provider\\xa0\\xa0Professional\\xa0\\xa0Designation',\n",
       "  'LUI\\xa0': 'Foreign\\xa0\\xa0Languages \\xa0Spoken by this \\xa0provider',\n",
       "  'LUI02\\xa0': 'Identification\\xa0\\xa0Code',\n",
       "  'LUI05\\xa0': 'Language\\xa0\\xa0Proficiency\\xa0\\xa0Indicator',\n",
       "  'DTP\\xa0': 'Affiliation\\xa0\\xa0Participation \\xa0Dates',\n",
       "  'DTP01\\xa0': 'Date/Time\\xa0\\xa0Qualifier',\n",
       "  'DTP03\\xa0': 'Date Time\\xa0\\xa0Period'},\n",
       " '2120EA\\xa0': {'LQ\\xa0': 'Provider\\xa0\\xa0Group’s Area \\xa0of \\xa0Specialization',\n",
       "  'LQ01\\xa0': 'Code/List\\xa0\\xa0Qualifier Code',\n",
       "  'LQ02\\xa0': 'Industry Code\\xa0',\n",
       "  'TPB\\xa0': 'Network Role\\xa0 at this Site',\n",
       "  'TPB01\\xa0': 'Provider Group\\xa0 Network Role\\xa0 Code',\n",
       "  'YNQ\\xa0': 'Provider’s\\xa0\\xa0Board \\xa0Certification',\n",
       "  'YNQ01\\xa0': 'Condition\\xa0\\xa0Indicator',\n",
       "  'YNQ02\\xa0': 'Response\\xa0\\xa0Code'},\n",
       " '2140EA\\xa0': {'REF\\xa0': 'Provider\\xa0\\xa0Identification \\xa0Numbers',\n",
       "  'REF01\\xa0': 'Reference\\xa0\\xa0Identification\\xa0\\xa0Qualifier',\n",
       "  'REF02\\xa0': 'Reference\\xa0\\xa0Identification'}}"
      ]
     },
     "execution_count": 13,
     "metadata": {},
     "output_type": "execute_result"
    }
   ],
   "source": [
    "m_dict"
   ]
  },
  {
   "cell_type": "code",
   "execution_count": 14,
   "metadata": {},
   "outputs": [
    {
     "name": "stdout",
     "output_type": "stream",
     "text": [
      "True\n"
     ]
    }
   ],
   "source": [
    "test = 'asdf'\n",
    "test2 = 'asdf2'\n",
    "print(test in test2)"
   ]
  },
  {
   "cell_type": "markdown",
   "metadata": {},
   "source": [
    "# Input File Stuff"
   ]
  },
  {
   "cell_type": "code",
   "execution_count": 15,
   "metadata": {},
   "outputs": [],
   "source": [
    "input_file = []\n",
    "\n",
    "with open(r\"C://Users//Melton//OneDrive//Documents//Afya//HPSJ//Data_readable.txt\",'r') as f:\n",
    "    temp = f.read()\n",
    "    [input_file.append(t) for t in temp.split('\\n')]"
   ]
  },
  {
   "cell_type": "code",
   "execution_count": null,
   "metadata": {},
   "outputs": [],
   "source": []
  },
  {
   "cell_type": "code",
   "execution_count": 16,
   "metadata": {},
   "outputs": [],
   "source": [
    "all_ = []\n",
    "for L in input_file:\n",
    "    line = L.split('*')\n",
    "    all_.append(line)"
   ]
  },
  {
   "cell_type": "code",
   "execution_count": null,
   "metadata": {},
   "outputs": [],
   "source": []
  },
  {
   "cell_type": "code",
   "execution_count": null,
   "metadata": {},
   "outputs": [],
   "source": []
  },
  {
   "cell_type": "markdown",
   "metadata": {},
   "source": [
    "# Final Output"
   ]
  },
  {
   "cell_type": "code",
   "execution_count": 17,
   "metadata": {},
   "outputs": [],
   "source": [
    "import json\n",
    "with open(r\"C://Users//Melton//OneDrive//Documents//Afya//HPSJ//dat.json\",'r') as f:\n",
    "    test_ = json.load(f)"
   ]
  },
  {
   "cell_type": "code",
   "execution_count": 18,
   "metadata": {},
   "outputs": [
    {
     "name": "stdout",
     "output_type": "stream",
     "text": [
      "[{'npi': '', 'first_name': 'Jon', 'last_name': 'doe', 'dob': '03-22-1996', 'hospital_name': 'World health care', 'email': 'jon@doe.com', 'password': '', 'mobile': '123456789', 'experience': 10, 'image_url': 'qwerrrrrrrrrrrr', 'spec_id': '7f8f5fc0-57d3-11ea-99c5-697c53e23e48', 'about': 'MMBS', 'org_details': [{'org_id': '', 'roles': ['']}]}, {'npi': '', 'first_name': 'Ray', 'last_name': 'Ken', 'dob': '03-22-1996', 'hospital_name': 'United health care', 'email': 'Ken@ray.com', 'password': '', 'mobile': '123456789', 'experience': 10, 'image_url': 'qwerrrrrrrrrrrr', 'spec_id': '7f8f5fc0-57d3-11ea-99c5-697c53e23e48', 'about': 'Mbbs', 'org_details': [{'org_id': '', 'roles': ['']}]}]\n"
     ]
    }
   ],
   "source": [
    "print(test_)"
   ]
  },
  {
   "cell_type": "code",
   "execution_count": 19,
   "metadata": {},
   "outputs": [
    {
     "name": "stdout",
     "output_type": "stream",
     "text": [
      "dict_keys(['npi', 'first_name', 'last_name', 'dob', 'hospital_name', 'email', 'password', 'mobile', 'experience', 'image_url', 'spec_id', 'about', 'org_details'])\n"
     ]
    }
   ],
   "source": [
    "print(test_[0].keys())"
   ]
  },
  {
   "cell_type": "code",
   "execution_count": 38,
   "metadata": {},
   "outputs": [],
   "source": [
    "# Can do AJ -> 1P, AJ -> 1P\n",
    "pcp_arr = []\n",
    "one_pcp = {}\n",
    "for i,_L in enumerate(all_):\n",
    "# npi = 2100EA NM109\n",
    "# Look for 1P\n",
    "    if( '1P' in _L ):\n",
    "        one_pcp['npi'] = _L[9][:-1]\n",
    "# first_name = 2100EA NM104\n",
    "# Look for 1P\n",
    "        one_pcp['first_name'] = _L[4]\n",
    "# last_name = 2100EA NM103\n",
    "# Look for 1P\n",
    "        one_pcp['last_name'] = _L[3]\n",
    "# dob = 2100EA NM201\n",
    "# between the 3rd and 4th ;\n",
    "# Look for 1P\n",
    "        nm201 = (all_[i+1][1]).split(';')[3]\n",
    "        one_pcp['dob'] = nm201[4:6] +'-'+ nm201[6:] +'-' + nm201[:4]\n",
    "# hospital_name = ???\n",
    "        pcp_arr.append(one_pcp)\n",
    "        one_pcp = {}\n",
    "# email = 2100DA PER06\n",
    "# AJ\n",
    "    if( 'AJ' in _L ):\n",
    "        one_pcp['email'] = _L[6]\n",
    "# password ???\n",
    "\n",
    "# mobile = 2100DA PER04\n",
    "# AJ\n",
    "        one_pcp['mobile'] = _L[4]\n",
    "        \n",
    "        pcp_arr.append(one_pcp)\n",
    "        one_pcp = {}\n",
    "# experience = ??? degree?\n",
    "    if( 'LQ' in _L ):\n",
    "# image_url ???\n",
    "        one_pcp['taxonomy'] = _L[2]\n",
    "        pcp_arr.append(one_pcp)\n",
    "        one_pcp = {}\n",
    "# spec_id ???\n",
    "\n",
    "# about ???\n",
    "\n",
    "# org_details: [{'org_id': '', 'roles': ['']}]"
   ]
  },
  {
   "cell_type": "code",
   "execution_count": 39,
   "metadata": {},
   "outputs": [
    {
     "name": "stdout",
     "output_type": "stream",
     "text": [
      "(15832,)\n"
     ]
    }
   ],
   "source": [
    "print(np.shape(pcp_arr))"
   ]
  },
  {
   "cell_type": "code",
   "execution_count": 40,
   "metadata": {},
   "outputs": [
    {
     "data": {
      "text/plain": [
       "{'npi': '1952784217',\n",
       " 'first_name': 'Amenaghawon',\n",
       " 'last_name': 'Ahmad',\n",
       " 'dob': '08-17-1988'}"
      ]
     },
     "execution_count": 40,
     "metadata": {},
     "output_type": "execute_result"
    }
   ],
   "source": [
    "pcp_arr[15830]"
   ]
  },
  {
   "cell_type": "code",
   "execution_count": 22,
   "metadata": {},
   "outputs": [],
   "source": [
    "def see(array,index,key):\n",
    "    try:\n",
    "        array[index][key]\n",
    "        return True\n",
    "    except:\n",
    "        pass\n",
    "    return False"
   ]
  },
  {
   "cell_type": "code",
   "execution_count": 41,
   "metadata": {},
   "outputs": [],
   "source": [
    "new_pcp_arr = []\n",
    "for j,i in enumerate(pcp_arr):\n",
    "    try:\n",
    "        if(i['npi']):                \n",
    "            \n",
    "            # Loop backwards for taxonomy and email and mobile\n",
    "            back_i = 1\n",
    "            taxonomy_arr = []\n",
    "            \n",
    "            if( not see(pcp_arr,j-back_i,'taxonomy') and not see(pcp_arr,j-back_i,'email') ):\n",
    "                new_pcp_arr.append(i)\n",
    "            else:\n",
    "                temp = i.copy()\n",
    "                temp_arr = []\n",
    "                while( see(pcp_arr,j-back_i,'taxonomy') ):\n",
    "                    z = pcp_arr[j-back_i]\n",
    "                    temp_arr.append(z)\n",
    "                    back_i += 1\n",
    "                temp_arr_no_dict = []\n",
    "                [temp_arr_no_dict.append(t['taxonomy']) for t in temp_arr]\n",
    "                temp['taxonomy'] = temp_arr_no_dict\n",
    "                if( see(pcp_arr,j-back_i,'email') ):\n",
    "                    z = pcp_arr[j-back_i]\n",
    "                    for k in z:\n",
    "                        temp[k] = z[k]\n",
    "                new_pcp_arr.append(temp)\n",
    "                temp = None\n",
    "    except:\n",
    "        pass"
   ]
  },
  {
   "cell_type": "code",
   "execution_count": 42,
   "metadata": {},
   "outputs": [
    {
     "data": {
      "text/plain": [
       "(5156,)"
      ]
     },
     "execution_count": 42,
     "metadata": {},
     "output_type": "execute_result"
    }
   ],
   "source": [
    "np.shape(new_pcp_arr)"
   ]
  },
  {
   "cell_type": "code",
   "execution_count": 43,
   "metadata": {
    "scrolled": true
   },
   "outputs": [
    {
     "data": {
      "text/plain": [
       "{'npi': '1952784217',\n",
       " 'first_name': 'Amenaghawon',\n",
       " 'last_name': 'Ahmad',\n",
       " 'dob': '08-17-1988',\n",
       " 'taxonomy': ['103K00000X~']}"
      ]
     },
     "execution_count": 43,
     "metadata": {},
     "output_type": "execute_result"
    }
   ],
   "source": [
    "new_pcp_arr[5155]"
   ]
  },
  {
   "cell_type": "code",
   "execution_count": 44,
   "metadata": {
    "scrolled": true
   },
   "outputs": [],
   "source": [
    "import csv\n",
    "with open('274pcps.csv', 'w', newline='') as csvfile:\n",
    "    csv_writer = csv.writer(csvfile)\n",
    "    header = []\n",
    "    for key in new_pcp_arr[0]:\n",
    "        header.append(key)\n",
    "    csv_writer.writerow(header)\n",
    "    for dictionary in new_pcp_arr:\n",
    "        ar = []\n",
    "        [ar.append(dictionary[k]) for k in dictionary]\n",
    "        csv_writer.writerow(ar)"
   ]
  },
  {
   "cell_type": "code",
   "execution_count": 46,
   "metadata": {
    "scrolled": false
   },
   "outputs": [],
   "source": [
    "df_end = pd.DataFrame(data=new_pcp_arr)"
   ]
  },
  {
   "cell_type": "code",
   "execution_count": 47,
   "metadata": {},
   "outputs": [],
   "source": [
    "df_end.to_excel('274pcp.xlsx')"
   ]
  },
  {
   "cell_type": "code",
   "execution_count": null,
   "metadata": {},
   "outputs": [],
   "source": []
  }
 ],
 "metadata": {
  "kernelspec": {
   "display_name": "Python 3",
   "language": "python",
   "name": "python3"
  },
  "language_info": {
   "codemirror_mode": {
    "name": "ipython",
    "version": 3
   },
   "file_extension": ".py",
   "mimetype": "text/x-python",
   "name": "python",
   "nbconvert_exporter": "python",
   "pygments_lexer": "ipython3",
   "version": "3.9.0"
  }
 },
 "nbformat": 4,
 "nbformat_minor": 4
}
